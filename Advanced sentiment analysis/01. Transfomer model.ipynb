{
 "cells": [
  {
   "attachments": {},
   "cell_type": "markdown",
   "metadata": {},
   "source": [
    "# Sentiment with Transformers\n",
    "\n",
    "The HuggingFace Transformers library is presently the most advanced and accessible library for building and using transformer models. As such, it will be what we primarily use throughout these notebooks.\n",
    "\n",
    "To apply sentiment analysis using the transformers library, we first need to decide on a model to use - as we will be applying a pretrained model, rather than starting from scratch. The list of models available can be found at [huggingface.co/models](https://www.huggingface.co/models).\n",
    "\n",
    "![Filter for Text Classification on HuggingFace models page](images/hf_models_text_classification_filter.jpg)\n",
    "\n",
    "From the model page we select the **Text Classification** filter on the left of the page to filter for models that we can apply for text classification tasks immediately. We will be performing sentiment analysis on posts from */r/investing* (in this section we will be using the example given in `txt` below), which are finance oriented, so we can use the [finBERT](https://arxiv.org/abs/1908.10063) model [`ProsusAI/finbert`](https://huggingface.co/ProsusAI/finbert) which has been trained on financial articles for financial sentiment classification.\n",
    "\n",
    "FinBERT is a BERT model, so when loading the model and tokenizer we will using BERT classes, and because we are performing *sequence classification* we will be using `BertForSequenceClassification`. Let's initialize our model and tokenizer:"
   ]
  },
  {
   "cell_type": "code",
   "execution_count": null,
   "metadata": {},
   "outputs": [],
   "source": [
    "from transformers import BertForSequenceClassification, BertTokenizer\n",
    "\n",
    "# Initialize the tokenizer for BERT models\n",
    "# Note: FinBERT is a pre-trained NLP model to analyze sentiment of financial text\n",
    "tokenizer = BertTokenizer.from_pretrained('ProsusAI/finbert')\n",
    "\n",
    "# Set labels\n",
    "labels = {1: 'Negative', 2: 'Neutral', 3: 'Positive'}"
   ]
  },
  {
   "attachments": {},
   "cell_type": "markdown",
   "metadata": {},
   "source": [
    "The first time that this is run when using the `ProsusAI/finbert` model, it will be downloaded from the HuggingFace model repositories. We will be following a very similar process to that which we worked through for our Flair sentiment classifier, with some added steps to convert model output activations to class predictions.\n",
    "\n",
    "1. We tokenize our input text.\n",
    "\n",
    "2. Tokenized inputs are fed into the model, which outputs final layer **activations** (note *activations* are not *probabilities*).\n",
    "\n",
    "3. Convert those activations into probabilities using a softmax function (sigmoid for multiple classes).\n",
    "\n",
    "4. Take the **argmax** of those probabilities."
   ]
  },
  {
   "attachments": {},
   "cell_type": "markdown",
   "metadata": {},
   "source": [
    "# Step 1: use the `encode_plus` method"
   ]
  },
  {
   "cell_type": "code",
   "execution_count": 2,
   "metadata": {},
   "outputs": [],
   "source": [
    "# this is our example text\n",
    "text = (\"Given the recent downturn in stocks especially in tech which is likely to persist as yields keep going up, \"\n",
    "       \"I thought it would be prudent to share the risks of investing in ARK ETFs, written up very nicely by \"\n",
    "       \"[The Bear Cave](https://thebearcave.substack.com/p/special-edition-will-ark-invest-blow). The risks comes \"\n",
    "       \"primarily from ARK's illiquid and very large holdings in small cap companies. ARK is forced to sell its \"\n",
    "       \"holdings whenever its liquid ETF gets hit with outflows as is especially the case in market downturns. \"\n",
    "       \"This could force very painful liquidations at unfavorable prices and the ensuing crash goes into a \"\n",
    "       \"positive feedback loop leading into a death spiral enticing even more outflows and predatory shorts.\")\n",
    "\n",
    "tokens = tokenizer.encode_plus(text, max_length=512, truncation=True, padding='max_length',\n",
    "                               add_special_tokens=True, return_tensors='pt')"
   ]
  },
  {
   "attachments": {},
   "cell_type": "markdown",
   "metadata": {},
   "source": [
    "Here we have specified a few arguments that require some explanation.\n",
    "\n",
    "* `max_length` - this tell the tokenizer the maximum number of tokens we want to see in each sample, for BERT we almost always use `512` as that is the length of sequences that BERT consumes.\n",
    "\n",
    "* `truncation` - if our input string `txt` contains more tokens than allowed (specified in `max_length` parameter) then we cut all tokens past the `max_length` limit.\n",
    "\n",
    "* `padding` - if our input string `txt` contains less tokens than specified by `max_length` then we pad the sequence with zeros (`0` is the token ID for *'[PAD]'* - BERTs padding token).\n",
    "\n",
    "* `add_special_tokens` - whether or not to add special tokens, when using BERT we always want this to be `True` unless we are adding them ourselves.\n",
    "\n",
    "| Token | ID | Description |\n",
    "| --- | --- | --- |\n",
    "| [PAD] | 0 | Used to fill empty space when input sequence is shorter than required sequence size for model |\n",
    "| [UNK] | 100 | If a word/character is not found in BERTs vocabulary it will be represented by this *unknown* token |\n",
    "| [CLS] | 101 | Represents the start of a sequence |\n",
    "| [SEP] | 102 | Seperator token to denote the end of a sequence and as a seperator where there are multiple sequences |\n",
    "| [MASK] | 103 | Token used for masking other tokens, used for masked language modeling |\n",
    "\n",
    "*Note that our tokenized sequence begins with `101`, the seperator token `102` can be found seperating the input sequence and padding tokens `0`.*\n",
    "\n",
    "* `return_tensors` - here we specify either `'pt'` to return PyTorch tensors, or `'tf'` to return TensorFlow tensors.\n",
    "\n",
    "The output produced includes **three** tensors in a dictionary format, `'input_ids'`, `'token_type_ids'`, and `'attention_mask'`. We can ignore `'token_type_ids'` as they are not used by BERT, the other two tensors are however.\n",
    "\n",
    "* `'input_ids'` are the token ID representations of our input text. These will be passed into an embedding array where vector representations of each word will be found and passed into the following BERT layers.\n",
    "\n",
    "* `'attention_mask'` tells the attention layers in BERT which words to calculate attention for. If you look at this tensors you will see that each `1` value maps to an input ID from the `'input_ids'` tensor, whereas each `0` value maps to a *padding token* from the `'attention_mask'` tensor. In the attention layer (activations mapping to padding tokens are multiplied by 0, and so are cancelled out).\n",
    "\n",
    "Now that we have our tokenized input, we can pass it onto our `model` for inference. We pass in our `tokens` as *\\*\\*kwargs* (key word arguments), which we can use thanks to our tokens being in a dictionary format. When a dictionary is passed as a \\*\\*kwargs argument, the keys will be taken literally as variable names and the respective values become the variable values. So these two approaches would do the same thing:\n",
    "\n",
    "```\n",
    "# without **kwargs\n",
    "random_func(var1='hello', var2='world')\n",
    "\n",
    "# with **kwargs\n",
    "input_dict = {'var1': 'hello', 'var2': 'world'}\n",
    "random_func(**input_dict)\n",
    "```"
   ]
  },
  {
   "attachments": {},
   "cell_type": "markdown",
   "metadata": {},
   "source": [
    "# Create Sentiment classifier"
   ]
  },
  {
   "cell_type": "code",
   "execution_count": 3,
   "metadata": {},
   "outputs": [],
   "source": [
    "import torch\n",
    "import torch.nn as nn\n",
    "import torch.nn.functional as F\n",
    "\n",
    "class SentimentModel(nn.Module):\n",
    "   def __init__(self):\n",
    "        super(SentimentModel, self).__init__()\n",
    "        # Initialize the model for sequence classification\n",
    "        self.backbone = BertForSequenceClassification.from_pretrained('ProsusAI/finbert')\n",
    "\n",
    "   def forward(self, tokens):\n",
    "      output = self.backbone(**tokens)\n",
    "      output = F.softmax(output[0], dim=-1)\n",
    "\n",
    "      return (output)\n",
    "\n",
    "\n",
    "model = SentimentModel()\n",
    "model.to( 'cpu' );\n",
    "pred = model(tokens)\n",
    "\n"
   ]
  },
  {
   "cell_type": "code",
   "execution_count": 4,
   "metadata": {},
   "outputs": [
    {
     "data": {
      "text/plain": [
       "'Negative'"
      ]
     },
     "execution_count": 4,
     "metadata": {},
     "output_type": "execute_result"
    }
   ],
   "source": [
    "labels[torch.argmax(pred).item()]"
   ]
  }
 ],
 "metadata": {
  "kernelspec": {
   "display_name": "NLP",
   "language": "python",
   "name": "python3"
  },
  "language_info": {
   "codemirror_mode": {
    "name": "ipython",
    "version": 3
   },
   "file_extension": ".py",
   "mimetype": "text/x-python",
   "name": "python",
   "nbconvert_exporter": "python",
   "pygments_lexer": "ipython3",
   "version": "3.7.10"
  },
  "vscode": {
   "interpreter": {
    "hash": "24513103fde56bb2b83e620cc549278f11e79fde4f670db3dc95f99c43b58a75"
   }
  }
 },
 "nbformat": 4,
 "nbformat_minor": 4
}
