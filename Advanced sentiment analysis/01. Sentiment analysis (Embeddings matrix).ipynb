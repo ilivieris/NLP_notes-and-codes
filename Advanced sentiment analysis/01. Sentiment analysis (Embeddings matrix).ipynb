{
 "cells": [
  {
   "attachments": {},
   "cell_type": "markdown",
   "metadata": {},
   "source": [
    "# Libraries"
   ]
  },
  {
   "cell_type": "code",
   "execution_count": 1,
   "metadata": {},
   "outputs": [],
   "source": [
    "import warnings\n",
    "warnings.filterwarnings(\"ignore\")\n",
    "\n",
    "import os\n",
    "os.environ['TF_CPP_MIN_LOG_LEVEL'] = '3' \n",
    "\n",
    "import random\n",
    "import numpy                         as np\n",
    "import pandas                        as pd\n",
    "\n",
    "import tensorflow as tf\n",
    "from   tensorflow.keras.models       import Sequential\n",
    "from   tensorflow.keras.layers       import *\n",
    "from   tensorflow.keras.optimizers   import SGD \n",
    "from   tensorflow.keras.preprocessing.text import Tokenizer\n",
    "from   tensorflow.keras.preprocessing.sequence import pad_sequences\n",
    "\n",
    "from sklearn.model_selection         import train_test_split\n",
    "from sklearn.feature_extraction.text import CountVectorizer\n",
    "\n",
    "from utils.load_dataset import *\n",
    "from utils.utils import *\n",
    "from utils.text_preprocessing import *"
   ]
  },
  {
   "cell_type": "code",
   "execution_count": 2,
   "metadata": {},
   "outputs": [],
   "source": [
    "random_state = 42\n",
    "\n",
    "random.seed(random_state)\n",
    "os.environ[\"PYTHONHASHSEED\"] = str(random_state)\n",
    "np.random.seed(random_state)\n",
    "tf.random.set_seed(random_state)"
   ]
  },
  {
   "attachments": {},
   "cell_type": "markdown",
   "metadata": {},
   "source": [
    "# Dataset"
   ]
  },
  {
   "cell_type": "code",
   "execution_count": 3,
   "metadata": {},
   "outputs": [
    {
     "data": {
      "text/html": [
       "<div>\n",
       "<style scoped>\n",
       "    .dataframe tbody tr th:only-of-type {\n",
       "        vertical-align: middle;\n",
       "    }\n",
       "\n",
       "    .dataframe tbody tr th {\n",
       "        vertical-align: top;\n",
       "    }\n",
       "\n",
       "    .dataframe thead th {\n",
       "        text-align: right;\n",
       "    }\n",
       "</style>\n",
       "<table border=\"1\" class=\"dataframe\">\n",
       "  <thead>\n",
       "    <tr style=\"text-align: right;\">\n",
       "      <th></th>\n",
       "      <th>sentence</th>\n",
       "      <th>label</th>\n",
       "      <th>source</th>\n",
       "    </tr>\n",
       "  </thead>\n",
       "  <tbody>\n",
       "    <tr>\n",
       "      <th>0</th>\n",
       "      <td>Wow... Loved this place.</td>\n",
       "      <td>1</td>\n",
       "      <td>yelp</td>\n",
       "    </tr>\n",
       "    <tr>\n",
       "      <th>1</th>\n",
       "      <td>Crust is not good.</td>\n",
       "      <td>0</td>\n",
       "      <td>yelp</td>\n",
       "    </tr>\n",
       "    <tr>\n",
       "      <th>2</th>\n",
       "      <td>Not tasty and the texture was just nasty.</td>\n",
       "      <td>0</td>\n",
       "      <td>yelp</td>\n",
       "    </tr>\n",
       "  </tbody>\n",
       "</table>\n",
       "</div>"
      ],
      "text/plain": [
       "                                    sentence  label source\n",
       "0                   Wow... Loved this place.      1   yelp\n",
       "1                         Crust is not good.      0   yelp\n",
       "2  Not tasty and the texture was just nasty.      0   yelp"
      ]
     },
     "execution_count": 3,
     "metadata": {},
     "output_type": "execute_result"
    }
   ],
   "source": [
    "# Sentiment Labelled Sentences Data Set (UCI)\n",
    "# This data set includes labeled reviews from \n",
    "# 1. IMDb, \n",
    "# 2. Amazon\n",
    "# 3. Yelp. \n",
    "# Each review is marked with a score of 0 for a negative sentiment \n",
    "# or 1 for a positive sentiment.\n",
    "df = load_dataset()\n",
    "\n",
    "df.head(3)"
   ]
  },
  {
   "attachments": {},
   "cell_type": "markdown",
   "metadata": {},
   "source": [
    "## Create train/test datasets"
   ]
  },
  {
   "cell_type": "code",
   "execution_count": 4,
   "metadata": {},
   "outputs": [],
   "source": [
    "# Get Sentences and Ratings\n",
    "Sentences = df['sentence']\n",
    "Ratings   = df['label']\n",
    "\n",
    "\n",
    "Sentences_train, Sentences_test, trainY, testY = train_test_split(Sentences, Ratings, test_size=0.1, random_state=random_state)"
   ]
  },
  {
   "attachments": {},
   "cell_type": "markdown",
   "metadata": {},
   "source": [
    "# Case study I: Sentinel model (without data preprocessing)"
   ]
  },
  {
   "cell_type": "code",
   "execution_count": 5,
   "metadata": {},
   "outputs": [
    {
     "name": "stdout",
     "output_type": "stream",
     "text": [
      "Vocabulary size:  5036\n"
     ]
    }
   ],
   "source": [
    "# Use keras Tokenizer\n",
    "tokenizer = Tokenizer(num_words=5000)\n",
    "tokenizer.fit_on_texts(Sentences_train)\n",
    "\n",
    "trainX = tokenizer.texts_to_sequences(Sentences_train)\n",
    "testX  = tokenizer.texts_to_sequences(Sentences_test)\n",
    "\n",
    "# Vocabulary size\n",
    "vocab_size = len(tokenizer.word_index) + 1  # Adding 1 because of reserved 0 index\n",
    "print('Vocabulary size: ', vocab_size)\n",
    "\n",
    "# Pad sequence\n",
    "maxlen = 100\n",
    "trainX = pad_sequences(trainX, padding='post', maxlen=maxlen)\n",
    "testX = pad_sequences(testX, padding='post', maxlen=maxlen)"
   ]
  },
  {
   "cell_type": "markdown",
   "metadata": {},
   "source": [
    "## Setup model & train"
   ]
  },
  {
   "cell_type": "code",
   "execution_count": 6,
   "metadata": {},
   "outputs": [
    {
     "name": "stdout",
     "output_type": "stream",
     "text": [
      "Coverage: 94.12%\n"
     ]
    }
   ],
   "source": [
    "# Retrieve the embedding matrix\n",
    "embedding_dim = 50\n",
    "embedding_matrix = create_embedding_matrix('Data/embedding_matrix/glove.6B.50d.txt', tokenizer.word_index, embedding_dim)\n",
    "\n",
    "\n",
    "nonzero_elements = np.count_nonzero(np.count_nonzero(embedding_matrix, axis=1))\n",
    "print('Coverage: %.2f%%' % (100 * nonzero_elements/len(tokenizer.word_index)))"
   ]
  },
  {
   "cell_type": "code",
   "execution_count": 14,
   "metadata": {},
   "outputs": [
    {
     "name": "stdout",
     "output_type": "stream",
     "text": [
      "Model: \"sequential_3\"\n",
      "_________________________________________________________________\n",
      "Layer (type)                 Output Shape              Param #   \n",
      "=================================================================\n",
      "embedding_3 (Embedding)      (None, 100, 50)           251800    \n",
      "_________________________________________________________________\n",
      "global_max_pooling1d_2 (Glob (None, 50)                0         \n",
      "_________________________________________________________________\n",
      "dense_6 (Dense)              (None, 10)                510       \n",
      "_________________________________________________________________\n",
      "dense_7 (Dense)              (None, 1)                 11        \n",
      "=================================================================\n",
      "Total params: 252,321\n",
      "Trainable params: 521\n",
      "Non-trainable params: 251,800\n",
      "_________________________________________________________________\n",
      "Epoch 1/30\n",
      "155/155 [==============================] - 0s 3ms/step - loss: 0.6969 - accuracy: 0.5289 - val_loss: 0.6670 - val_accuracy: 0.5964\n",
      "Epoch 2/30\n",
      "155/155 [==============================] - 0s 2ms/step - loss: 0.6560 - accuracy: 0.6138 - val_loss: 0.6240 - val_accuracy: 0.6836\n",
      "Epoch 3/30\n",
      "155/155 [==============================] - 0s 2ms/step - loss: 0.6257 - accuracy: 0.6632 - val_loss: 0.6476 - val_accuracy: 0.6364\n",
      "Epoch 4/30\n",
      "155/155 [==============================] - 0s 1ms/step - loss: 0.6074 - accuracy: 0.6846 - val_loss: 0.5891 - val_accuracy: 0.7018\n",
      "Epoch 5/30\n",
      "155/155 [==============================] - 0s 1ms/step - loss: 0.5875 - accuracy: 0.7097 - val_loss: 0.5717 - val_accuracy: 0.7018\n",
      "Epoch 6/30\n",
      "155/155 [==============================] - 0s 2ms/step - loss: 0.5736 - accuracy: 0.7133 - val_loss: 0.5532 - val_accuracy: 0.7418\n",
      "Epoch 7/30\n",
      "155/155 [==============================] - 0s 2ms/step - loss: 0.5649 - accuracy: 0.7173 - val_loss: 0.5391 - val_accuracy: 0.7309\n",
      "Epoch 8/30\n",
      "155/155 [==============================] - 0s 2ms/step - loss: 0.5590 - accuracy: 0.7226 - val_loss: 0.5413 - val_accuracy: 0.7527\n",
      "Epoch 9/30\n",
      "155/155 [==============================] - 0s 2ms/step - loss: 0.5505 - accuracy: 0.7299 - val_loss: 0.5293 - val_accuracy: 0.7382\n",
      "Epoch 10/30\n",
      "155/155 [==============================] - 0s 1ms/step - loss: 0.5464 - accuracy: 0.7327 - val_loss: 0.5322 - val_accuracy: 0.7491\n",
      "Epoch 11/30\n",
      "155/155 [==============================] - 0s 1ms/step - loss: 0.5432 - accuracy: 0.7384 - val_loss: 0.5255 - val_accuracy: 0.7564\n",
      "Epoch 12/30\n",
      "155/155 [==============================] - 0s 1ms/step - loss: 0.5395 - accuracy: 0.7323 - val_loss: 0.5496 - val_accuracy: 0.7200\n",
      "Epoch 13/30\n",
      "155/155 [==============================] - 0s 1ms/step - loss: 0.5378 - accuracy: 0.7380 - val_loss: 0.5186 - val_accuracy: 0.7382\n",
      "Epoch 14/30\n",
      "155/155 [==============================] - 0s 1ms/step - loss: 0.5367 - accuracy: 0.7335 - val_loss: 0.5148 - val_accuracy: 0.7418\n",
      "Epoch 15/30\n",
      "155/155 [==============================] - 0s 1ms/step - loss: 0.5329 - accuracy: 0.7404 - val_loss: 0.5211 - val_accuracy: 0.7491\n",
      "Epoch 16/30\n",
      "155/155 [==============================] - 0s 1ms/step - loss: 0.5299 - accuracy: 0.7404 - val_loss: 0.5207 - val_accuracy: 0.7491\n",
      "Epoch 17/30\n",
      "155/155 [==============================] - 0s 1ms/step - loss: 0.5349 - accuracy: 0.7432 - val_loss: 0.5122 - val_accuracy: 0.7345\n",
      "Epoch 18/30\n",
      "155/155 [==============================] - 0s 1ms/step - loss: 0.5321 - accuracy: 0.7416 - val_loss: 0.5197 - val_accuracy: 0.7455\n",
      "Epoch 19/30\n",
      "155/155 [==============================] - 0s 2ms/step - loss: 0.5277 - accuracy: 0.7412 - val_loss: 0.5137 - val_accuracy: 0.7491\n",
      "Epoch 20/30\n",
      "155/155 [==============================] - 0s 1ms/step - loss: 0.5306 - accuracy: 0.7359 - val_loss: 0.5165 - val_accuracy: 0.7527\n",
      "Epoch 21/30\n",
      "155/155 [==============================] - 0s 1ms/step - loss: 0.5270 - accuracy: 0.7432 - val_loss: 0.5634 - val_accuracy: 0.7309\n",
      "Epoch 22/30\n",
      "155/155 [==============================] - 0s 1ms/step - loss: 0.5271 - accuracy: 0.7469 - val_loss: 0.5081 - val_accuracy: 0.7455\n",
      "Epoch 23/30\n",
      "155/155 [==============================] - 0s 1ms/step - loss: 0.5253 - accuracy: 0.7420 - val_loss: 0.5111 - val_accuracy: 0.7527\n",
      "Epoch 24/30\n",
      "155/155 [==============================] - 0s 2ms/step - loss: 0.5237 - accuracy: 0.7416 - val_loss: 0.5272 - val_accuracy: 0.7455\n",
      "Epoch 25/30\n",
      "155/155 [==============================] - 0s 2ms/step - loss: 0.5205 - accuracy: 0.7452 - val_loss: 0.5328 - val_accuracy: 0.7418\n",
      "Epoch 26/30\n",
      "155/155 [==============================] - 0s 1ms/step - loss: 0.5203 - accuracy: 0.7481 - val_loss: 0.5157 - val_accuracy: 0.7455\n",
      "Epoch 27/30\n",
      "155/155 [==============================] - 0s 1ms/step - loss: 0.5222 - accuracy: 0.7376 - val_loss: 0.5362 - val_accuracy: 0.7382\n",
      "Epoch 28/30\n",
      "155/155 [==============================] - 0s 2ms/step - loss: 0.5205 - accuracy: 0.7432 - val_loss: 0.5206 - val_accuracy: 0.7600\n",
      "Epoch 29/30\n",
      "155/155 [==============================] - 0s 2ms/step - loss: 0.5203 - accuracy: 0.7481 - val_loss: 0.5142 - val_accuracy: 0.7455\n",
      "Epoch 30/30\n",
      "155/155 [==============================] - 0s 2ms/step - loss: 0.5190 - accuracy: 0.7388 - val_loss: 0.5376 - val_accuracy: 0.7491\n"
     ]
    }
   ],
   "source": [
    "# Setup model\n",
    "model = Sequential()\n",
    "model.add(Embedding(input_dim    = vocab_size, \n",
    "                    output_dim   = embedding_dim, \n",
    "                     weights = [embedding_matrix],\n",
    "                     input_length = maxlen,\n",
    "                     trainable=False))\n",
    "#model.add(Flatten())\n",
    "model.add(GlobalMaxPool1D())\n",
    "model.add(Dense(10, activation='relu'))\n",
    "model.add(Dense(1, activation='sigmoid'))\n",
    "\n",
    "model.compile(loss='binary_crossentropy', optimizer='adam', metrics = ['accuracy'])\n",
    "model.summary()\n",
    "\n",
    "\n",
    "# Train model\n",
    "score = model.fit(trainX, trainY,\n",
    "                  epochs          = 30, \n",
    "                  batch_size      = 64, \n",
    "                  verbose         = 1, \n",
    "                  validation_data = (testX, testY))"
   ]
  },
  {
   "cell_type": "markdown",
   "metadata": {},
   "source": [
    "## Model evaluation"
   ]
  },
  {
   "cell_type": "code",
   "execution_count": 13,
   "metadata": {},
   "outputs": [
    {
     "data": {
      "image/png": "[encoded data removed]",
      "text/plain": [
       "<Figure size 864x360 with 2 Axes>"
      ]
     },
     "metadata": {
      "needs_background": "light"
     },
     "output_type": "display_data"
    },
    {
     "name": "stdout",
     "output_type": "stream",
     "text": [
      "Training Accuracy: 0.7566\n",
      "Testing Accuracy:  0.7382\n",
      "Accuracy = 73.82%\n",
      "AUC      = 0.74478\n",
      "F1       = 0.73134\n",
      "[[105  48]\n",
      " [ 24  98]]\n",
      "\n",
      "\n"
     ]
    }
   ],
   "source": [
    "# Print statistics\n",
    "plot_history(score)\n",
    "\n",
    "\n",
    "loss, accuracy = model.evaluate(trainX, trainY, verbose=False)\n",
    "print(\"Training Accuracy: {:.4f}\".format(accuracy))\n",
    "loss, accuracy = model.evaluate(testX, testY, verbose=False)\n",
    "print(\"Testing Accuracy:  {:.4f}\".format(accuracy))\n",
    "\n",
    "\n",
    "# Predictions of the classification model\n",
    "pred = model.predict(testX)\n",
    "\n",
    "# Evaluation of the classification model\n",
    "evaluate_model(testY, pred)"
   ]
  },
  {
   "attachments": {},
   "cell_type": "markdown",
   "metadata": {},
   "source": [
    "# Case study II: Sentinel model (**with** data preprocessing)"
   ]
  },
  {
   "attachments": {},
   "cell_type": "markdown",
   "metadata": {},
   "source": [
    "## Preprocess data\n",
    "1. Lower case\n",
    "2. Remove punctuation\n",
    "2. Remove stopping words\n",
    "3. Lemmatization (or Stemming)"
   ]
  },
  {
   "cell_type": "code",
   "execution_count": null,
   "metadata": {},
   "outputs": [],
   "source": [
    "Sentences_train = preprocess(Series=Sentences_train, verbose=False)\n",
    "Sentences_test = preprocess(Series=Sentences_test, verbose=False)"
   ]
  },
  {
   "cell_type": "code",
   "execution_count": null,
   "metadata": {},
   "outputs": [],
   "source": [
    "# Use keras Tokenizer\n",
    "tokenizer = Tokenizer(num_words=5000)\n",
    "tokenizer.fit_on_texts(Sentences_train)\n",
    "\n",
    "trainX = tokenizer.texts_to_sequences(Sentences_train)\n",
    "testX  = tokenizer.texts_to_sequences(Sentences_test)\n",
    "\n",
    "# Vocabulary size\n",
    "vocab_size = len(tokenizer.word_index) + 1  # Adding 1 because of reserved 0 index\n",
    "print('Vocabulary size: ', vocab_size)\n",
    "\n",
    "# Pad sequence\n",
    "maxlen = 100\n",
    "trainX = pad_sequences(trainX, padding='post', maxlen=maxlen)\n",
    "testX = pad_sequences(testX, padding='post', maxlen=maxlen)"
   ]
  },
  {
   "cell_type": "markdown",
   "metadata": {},
   "source": [
    "## Setup model & train"
   ]
  },
  {
   "cell_type": "code",
   "execution_count": null,
   "metadata": {},
   "outputs": [],
   "source": [
    "# Retrieve the embedding matrix\n",
    "embedding_dim = 50\n",
    "embedding_matrix = create_embedding_matrix('Data/embedding_matrix/glove.6B.50d.txt', tokenizer.word_index, embedding_dim)\n",
    "\n",
    "\n",
    "nonzero_elements = np.count_nonzero(np.count_nonzero(embedding_matrix, axis=1))\n",
    "print('Coverage: %.2f%%' % (100 * nonzero_elements/len(tokenizer.word_index)))"
   ]
  },
  {
   "cell_type": "code",
   "execution_count": null,
   "metadata": {},
   "outputs": [],
   "source": [
    "# Setup model\n",
    "model = Sequential()\n",
    "model.add(Embedding(input_dim    = vocab_size, \n",
    "                    output_dim   = embedding_dim, \n",
    "                     weights = [embedding_matrix],\n",
    "                     input_length = maxlen,\n",
    "                     trainable=False))\n",
    "#model.add(Flatten())\n",
    "model.add(GlobalMaxPool1D())\n",
    "model.add(Dense(10, activation='relu'))\n",
    "model.add(Dense(1, activation='sigmoid'))\n",
    "\n",
    "model.compile(loss='binary_crossentropy', optimizer='adam', metrics = ['accuracy'])\n",
    "model.summary()\n",
    "\n",
    "\n",
    "# Train model\n",
    "score = model.fit(trainX, trainY,\n",
    "                  epochs          = 30, \n",
    "                  batch_size      = 64, \n",
    "                  verbose         = 1, \n",
    "                  validation_data = (testX, testY))"
   ]
  },
  {
   "cell_type": "markdown",
   "metadata": {},
   "source": [
    "## Model evaluation"
   ]
  },
  {
   "cell_type": "code",
   "execution_count": null,
   "metadata": {},
   "outputs": [],
   "source": [
    "# Print statistics\n",
    "plot_history(score)\n",
    "\n",
    "\n",
    "loss, accuracy = model.evaluate(trainX, trainY, verbose=False)\n",
    "print(\"Training Accuracy: {:.4f}\".format(accuracy))\n",
    "loss, accuracy = model.evaluate(testX, testY, verbose=False)\n",
    "print(\"Testing Accuracy:  {:.4f}\".format(accuracy))\n",
    "\n",
    "\n",
    "# Predictions of the classification model\n",
    "pred = model.predict(testX)\n",
    "\n",
    "# Evaluation of the classification model\n",
    "evaluate_model(testY, pred)"
   ]
  },
  {
   "cell_type": "code",
   "execution_count": null,
   "metadata": {},
   "outputs": [],
   "source": []
  }
 ],
 "metadata": {
  "kernelspec": {
   "display_name": "NLP",
   "language": "python",
   "name": "python3"
  },
  "language_info": {
   "codemirror_mode": {
    "name": "ipython",
    "version": 3
   },
   "file_extension": ".py",
   "mimetype": "text/x-python",
   "name": "python",
   "nbconvert_exporter": "python",
   "pygments_lexer": "ipython3",
   "version": "3.7.10"
  },
  "orig_nbformat": 4,
  "vscode": {
   "interpreter": {
    "hash": "24513103fde56bb2b83e620cc549278f11e79fde4f670db3dc95f99c43b58a75"
   }
  }
 },
 "nbformat": 4,
 "nbformat_minor": 2
}
