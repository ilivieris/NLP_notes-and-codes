{
 "cells": [
  {
   "attachments": {},
   "cell_type": "markdown",
   "metadata": {},
   "source": [
    "# Libraries"
   ]
  },
  {
   "cell_type": "code",
   "execution_count": 1,
   "metadata": {},
   "outputs": [],
   "source": [
    "import warnings\n",
    "warnings.filterwarnings(\"ignore\")\n",
    "\n",
    "import os\n",
    "os.environ['TF_CPP_MIN_LOG_LEVEL'] = '3' \n",
    "\n",
    "import random\n",
    "import numpy                         as np\n",
    "import pandas                        as pd\n",
    "\n",
    "import tensorflow as tf\n",
    "from   tensorflow.keras.models       import Sequential\n",
    "from   tensorflow.keras.layers       import *\n",
    "from   tensorflow.keras.optimizers   import Adam \n",
    "\n",
    "from sklearn.model_selection         import train_test_split\n",
    "from sklearn.feature_extraction.text import CountVectorizer\n",
    "\n",
    "from utils.load_dataset import *\n",
    "from utils.utils import *\n",
    "from utils.text_preprocessing import *"
   ]
  },
  {
   "cell_type": "code",
   "execution_count": 2,
   "metadata": {},
   "outputs": [],
   "source": [
    "random_state = 42\n",
    "\n",
    "random.seed(random_state)\n",
    "os.environ[\"PYTHONHASHSEED\"] = str(random_state)\n",
    "np.random.seed(random_state)\n",
    "tf.random.set_seed(random_state)"
   ]
  },
  {
   "attachments": {},
   "cell_type": "markdown",
   "metadata": {},
   "source": [
    "# Dataset"
   ]
  },
  {
   "cell_type": "code",
   "execution_count": 3,
   "metadata": {},
   "outputs": [
    {
     "data": {
      "text/html": [
       "<div>\n",
       "<style scoped>\n",
       "    .dataframe tbody tr th:only-of-type {\n",
       "        vertical-align: middle;\n",
       "    }\n",
       "\n",
       "    .dataframe tbody tr th {\n",
       "        vertical-align: top;\n",
       "    }\n",
       "\n",
       "    .dataframe thead th {\n",
       "        text-align: right;\n",
       "    }\n",
       "</style>\n",
       "<table border=\"1\" class=\"dataframe\">\n",
       "  <thead>\n",
       "    <tr style=\"text-align: right;\">\n",
       "      <th></th>\n",
       "      <th>sentence</th>\n",
       "      <th>label</th>\n",
       "      <th>source</th>\n",
       "    </tr>\n",
       "  </thead>\n",
       "  <tbody>\n",
       "    <tr>\n",
       "      <th>0</th>\n",
       "      <td>Wow... Loved this place.</td>\n",
       "      <td>1</td>\n",
       "      <td>yelp</td>\n",
       "    </tr>\n",
       "    <tr>\n",
       "      <th>1</th>\n",
       "      <td>Crust is not good.</td>\n",
       "      <td>0</td>\n",
       "      <td>yelp</td>\n",
       "    </tr>\n",
       "    <tr>\n",
       "      <th>2</th>\n",
       "      <td>Not tasty and the texture was just nasty.</td>\n",
       "      <td>0</td>\n",
       "      <td>yelp</td>\n",
       "    </tr>\n",
       "  </tbody>\n",
       "</table>\n",
       "</div>"
      ],
      "text/plain": [
       "                                    sentence  label source\n",
       "0                   Wow... Loved this place.      1   yelp\n",
       "1                         Crust is not good.      0   yelp\n",
       "2  Not tasty and the texture was just nasty.      0   yelp"
      ]
     },
     "execution_count": 3,
     "metadata": {},
     "output_type": "execute_result"
    }
   ],
   "source": [
    "# Sentiment Labelled Sentences Data Set (UCI)\n",
    "# This data set includes labeled reviews from \n",
    "# 1. IMDb, \n",
    "# 2. Amazon\n",
    "# 3. Yelp. \n",
    "# Each review is marked with a score of 0 for a negative sentiment \n",
    "# or 1 for a positive sentiment.\n",
    "df = load_dataset()\n",
    "\n",
    "df.head(3)"
   ]
  },
  {
   "attachments": {},
   "cell_type": "markdown",
   "metadata": {},
   "source": [
    "## Create train/test datasets"
   ]
  },
  {
   "cell_type": "code",
   "execution_count": 4,
   "metadata": {},
   "outputs": [],
   "source": [
    "# Get Sentences and Ratings\n",
    "Sentences = df['sentence']\n",
    "Ratings   = df['label']\n",
    "\n",
    "\n",
    "Sentences_train, Sentences_test, trainY, testY = train_test_split(Sentences, Ratings, test_size=0.1, random_state=random_state)"
   ]
  },
  {
   "attachments": {},
   "cell_type": "markdown",
   "metadata": {},
   "source": [
    "# Case study I: Sentinel model (without data preprocessing)"
   ]
  },
  {
   "cell_type": "code",
   "execution_count": 5,
   "metadata": {},
   "outputs": [
    {
     "name": "stdout",
     "output_type": "stream",
     "text": [
      "Vocabulary size:  4925\n"
     ]
    }
   ],
   "source": [
    "# Vectorization process\n",
    "vectorizer = CountVectorizer()\n",
    "vectorizer.fit(Sentences_train)\n",
    "\n",
    "trainX = vectorizer.transform(Sentences_train).toarray()\n",
    "testX  = vectorizer.transform(Sentences_test).toarray()\n",
    "\n",
    "print('Vocabulary size: ', len(vectorizer.vocabulary_))"
   ]
  },
  {
   "cell_type": "markdown",
   "metadata": {},
   "source": [
    "## Setup model & train"
   ]
  },
  {
   "cell_type": "code",
   "execution_count": 6,
   "metadata": {},
   "outputs": [
    {
     "name": "stdout",
     "output_type": "stream",
     "text": [
      "Model: \"sequential\"\n",
      "_________________________________________________________________\n",
      "Layer (type)                 Output Shape              Param #   \n",
      "=================================================================\n",
      "dense (Dense)                (None, 20)                98520     \n",
      "_________________________________________________________________\n",
      "dense_1 (Dense)              (None, 1)                 21        \n",
      "=================================================================\n",
      "Total params: 98,541\n",
      "Trainable params: 98,541\n",
      "Non-trainable params: 0\n",
      "_________________________________________________________________\n",
      "Epoch 1/30\n",
      "39/39 [==============================] - 0s 10ms/step - loss: 0.6909 - accuracy: 0.5293 - val_loss: 0.6870 - val_accuracy: 0.5309\n",
      "Epoch 2/30\n",
      "39/39 [==============================] - 0s 6ms/step - loss: 0.6614 - accuracy: 0.7618 - val_loss: 0.6701 - val_accuracy: 0.5855\n",
      "Epoch 3/30\n",
      "39/39 [==============================] - 0s 6ms/step - loss: 0.6172 - accuracy: 0.8152 - val_loss: 0.6385 - val_accuracy: 0.6909\n",
      "Epoch 4/30\n",
      "39/39 [==============================] - 0s 5ms/step - loss: 0.5606 - accuracy: 0.8674 - val_loss: 0.6036 - val_accuracy: 0.7200\n",
      "Epoch 5/30\n",
      "39/39 [==============================] - 0s 5ms/step - loss: 0.5031 - accuracy: 0.8896 - val_loss: 0.5675 - val_accuracy: 0.7455\n",
      "Epoch 6/30\n",
      "39/39 [==============================] - 0s 5ms/step - loss: 0.4492 - accuracy: 0.9159 - val_loss: 0.5343 - val_accuracy: 0.7891\n",
      "Epoch 7/30\n",
      "39/39 [==============================] - 0s 5ms/step - loss: 0.4022 - accuracy: 0.9329 - val_loss: 0.5079 - val_accuracy: 0.8109\n",
      "Epoch 8/30\n",
      "39/39 [==============================] - 0s 5ms/step - loss: 0.3610 - accuracy: 0.9422 - val_loss: 0.4840 - val_accuracy: 0.8109\n",
      "Epoch 9/30\n",
      "39/39 [==============================] - 0s 4ms/step - loss: 0.3251 - accuracy: 0.9490 - val_loss: 0.4632 - val_accuracy: 0.8145\n",
      "Epoch 10/30\n",
      "39/39 [==============================] - 0s 5ms/step - loss: 0.2942 - accuracy: 0.9543 - val_loss: 0.4450 - val_accuracy: 0.8218\n",
      "Epoch 11/30\n",
      "39/39 [==============================] - 0s 5ms/step - loss: 0.2671 - accuracy: 0.9624 - val_loss: 0.4304 - val_accuracy: 0.8364\n",
      "Epoch 12/30\n",
      "39/39 [==============================] - 0s 4ms/step - loss: 0.2438 - accuracy: 0.9636 - val_loss: 0.4181 - val_accuracy: 0.8400\n",
      "Epoch 13/30\n",
      "39/39 [==============================] - 0s 4ms/step - loss: 0.2235 - accuracy: 0.9677 - val_loss: 0.4089 - val_accuracy: 0.8364\n",
      "Epoch 14/30\n",
      "39/39 [==============================] - 0s 4ms/step - loss: 0.2051 - accuracy: 0.9705 - val_loss: 0.3957 - val_accuracy: 0.8436\n",
      "Epoch 15/30\n",
      "39/39 [==============================] - 0s 4ms/step - loss: 0.1892 - accuracy: 0.9733 - val_loss: 0.3880 - val_accuracy: 0.8436\n",
      "Epoch 16/30\n",
      "39/39 [==============================] - 0s 4ms/step - loss: 0.1751 - accuracy: 0.9761 - val_loss: 0.3802 - val_accuracy: 0.8327\n",
      "Epoch 17/30\n",
      "39/39 [==============================] - 0s 4ms/step - loss: 0.1625 - accuracy: 0.9778 - val_loss: 0.3761 - val_accuracy: 0.8400\n",
      "Epoch 18/30\n",
      "39/39 [==============================] - 0s 4ms/step - loss: 0.1512 - accuracy: 0.9782 - val_loss: 0.3705 - val_accuracy: 0.8436\n",
      "Epoch 19/30\n",
      "39/39 [==============================] - 0s 4ms/step - loss: 0.1410 - accuracy: 0.9798 - val_loss: 0.3681 - val_accuracy: 0.8400\n",
      "Epoch 20/30\n",
      "39/39 [==============================] - 0s 5ms/step - loss: 0.1318 - accuracy: 0.9838 - val_loss: 0.3637 - val_accuracy: 0.8436\n",
      "Epoch 21/30\n",
      "39/39 [==============================] - 0s 4ms/step - loss: 0.1235 - accuracy: 0.9846 - val_loss: 0.3595 - val_accuracy: 0.8436\n",
      "Epoch 22/30\n",
      "39/39 [==============================] - 0s 4ms/step - loss: 0.1159 - accuracy: 0.9846 - val_loss: 0.3587 - val_accuracy: 0.8436\n",
      "Epoch 23/30\n",
      "39/39 [==============================] - 0s 4ms/step - loss: 0.1089 - accuracy: 0.9850 - val_loss: 0.3565 - val_accuracy: 0.8473\n",
      "Epoch 24/30\n",
      "39/39 [==============================] - 0s 5ms/step - loss: 0.1027 - accuracy: 0.9863 - val_loss: 0.3555 - val_accuracy: 0.8509\n",
      "Epoch 25/30\n",
      "39/39 [==============================] - 0s 5ms/step - loss: 0.0969 - accuracy: 0.9871 - val_loss: 0.3548 - val_accuracy: 0.8509\n",
      "Epoch 26/30\n",
      "39/39 [==============================] - 0s 5ms/step - loss: 0.0916 - accuracy: 0.9883 - val_loss: 0.3545 - val_accuracy: 0.8582\n",
      "Epoch 27/30\n",
      "39/39 [==============================] - 0s 6ms/step - loss: 0.0866 - accuracy: 0.9887 - val_loss: 0.3534 - val_accuracy: 0.8618\n",
      "Epoch 28/30\n",
      "39/39 [==============================] - 0s 4ms/step - loss: 0.0821 - accuracy: 0.9895 - val_loss: 0.3529 - val_accuracy: 0.8582\n",
      "Epoch 29/30\n",
      "39/39 [==============================] - 0s 5ms/step - loss: 0.0778 - accuracy: 0.9891 - val_loss: 0.3531 - val_accuracy: 0.8582\n",
      "Epoch 30/30\n",
      "39/39 [==============================] - 0s 5ms/step - loss: 0.0741 - accuracy: 0.9903 - val_loss: 0.3539 - val_accuracy: 0.8618\n"
     ]
    }
   ],
   "source": [
    "# Setup model\n",
    "model = Sequential()\n",
    "model.add(Dense(20, input_dim=trainX.shape[1], activation='relu'))\n",
    "model.add(Dense(1,  activation='sigmoid'))\n",
    "model.compile(loss='binary_crossentropy', optimizer=Adam(lr=5e-4), metrics = ['accuracy'])\n",
    "model.summary()\n",
    "\n",
    "\n",
    "# Train model\n",
    "score = model.fit(trainX, trainY,\n",
    "                  epochs          = 30, \n",
    "                  batch_size      = 64, \n",
    "                  verbose         = 1, \n",
    "                  validation_data = (testX, testY))"
   ]
  },
  {
   "cell_type": "markdown",
   "metadata": {},
   "source": [
    "## Model evaluation"
   ]
  },
  {
   "cell_type": "code",
   "execution_count": 7,
   "metadata": {},
   "outputs": [
    {
     "data": {
      "image/png": "[encoded data removed]",
      "text/plain": [
       "<Figure size 864x360 with 2 Axes>"
      ]
     },
     "metadata": {
      "needs_background": "light"
     },
     "output_type": "display_data"
    },
    {
     "name": "stdout",
     "output_type": "stream",
     "text": [
      "Training Accuracy: 0.9911\n",
      "Testing Accuracy:  0.8618\n",
      "Accuracy = 86.18%\n",
      "AUC      = 0.85921\n",
      "F1       = 0.84298\n",
      "[[135  18]\n",
      " [ 20 102]]\n",
      "\n",
      "\n"
     ]
    }
   ],
   "source": [
    "# Print statistics\n",
    "plot_history(score)\n",
    "\n",
    "\n",
    "loss, accuracy = model.evaluate(trainX, trainY, verbose=False)\n",
    "print(\"Training Accuracy: {:.4f}\".format(accuracy))\n",
    "loss, accuracy = model.evaluate(testX, testY, verbose=False)\n",
    "print(\"Testing Accuracy:  {:.4f}\".format(accuracy))\n",
    "\n",
    "\n",
    "# Predictions of the classification model\n",
    "pred = model.predict(testX)\n",
    "\n",
    "# Evaluation of the classification model\n",
    "evaluate_model(testY, pred)"
   ]
  },
  {
   "attachments": {},
   "cell_type": "markdown",
   "metadata": {},
   "source": [
    "# Case study II: Sentinel model (**with** data preprocessing)"
   ]
  },
  {
   "attachments": {},
   "cell_type": "markdown",
   "metadata": {},
   "source": [
    "## Preprocess data\n",
    "1. Lower case\n",
    "2. Remove punctuation\n",
    "2. Remove stopping words\n",
    "3. Lemmatization (or Stemming)"
   ]
  },
  {
   "cell_type": "code",
   "execution_count": 8,
   "metadata": {},
   "outputs": [],
   "source": [
    "Sentences_train = preprocess(Series=Sentences_train, verbose=False)\n",
    "Sentences_test = preprocess(Series=Sentences_test, verbose=False)"
   ]
  },
  {
   "cell_type": "code",
   "execution_count": 9,
   "metadata": {},
   "outputs": [
    {
     "name": "stdout",
     "output_type": "stream",
     "text": [
      "Vocabulary size:  1837\n"
     ]
    }
   ],
   "source": [
    "# Vectorization process\n",
    "vectorizer = CountVectorizer(min_df=2, max_df=0.9, stop_words=None, ngram_range=(1,1))\n",
    "vectorizer.fit(Sentences_train)\n",
    "\n",
    "trainX = vectorizer.transform(Sentences_train).toarray()\n",
    "testX  = vectorizer.transform(Sentences_test).toarray()\n",
    "\n",
    "print('Vocabulary size: ', len(vectorizer.vocabulary_))"
   ]
  },
  {
   "cell_type": "markdown",
   "metadata": {},
   "source": [
    "## Setup model & train"
   ]
  },
  {
   "cell_type": "code",
   "execution_count": 10,
   "metadata": {},
   "outputs": [
    {
     "name": "stdout",
     "output_type": "stream",
     "text": [
      "Model: \"sequential_1\"\n",
      "_________________________________________________________________\n",
      "Layer (type)                 Output Shape              Param #   \n",
      "=================================================================\n",
      "dense_2 (Dense)              (None, 20)                36760     \n",
      "_________________________________________________________________\n",
      "dense_3 (Dense)              (None, 1)                 21        \n",
      "=================================================================\n",
      "Total params: 36,781\n",
      "Trainable params: 36,781\n",
      "Non-trainable params: 0\n",
      "_________________________________________________________________\n",
      "Epoch 1/30\n",
      "39/39 [==============================] - 0s 6ms/step - loss: 0.6885 - accuracy: 0.5710 - val_loss: 0.6884 - val_accuracy: 0.5345\n",
      "Epoch 2/30\n",
      "39/39 [==============================] - 0s 2ms/step - loss: 0.6720 - accuracy: 0.7036 - val_loss: 0.6785 - val_accuracy: 0.6182\n",
      "Epoch 3/30\n",
      "39/39 [==============================] - 0s 3ms/step - loss: 0.6506 - accuracy: 0.7885 - val_loss: 0.6627 - val_accuracy: 0.6836\n",
      "Epoch 4/30\n",
      "39/39 [==============================] - 0s 3ms/step - loss: 0.6207 - accuracy: 0.8338 - val_loss: 0.6414 - val_accuracy: 0.7309\n",
      "Epoch 5/30\n",
      "39/39 [==============================] - 0s 4ms/step - loss: 0.5837 - accuracy: 0.8556 - val_loss: 0.6150 - val_accuracy: 0.7600\n",
      "Epoch 6/30\n",
      "39/39 [==============================] - 0s 3ms/step - loss: 0.5429 - accuracy: 0.8658 - val_loss: 0.5876 - val_accuracy: 0.7745\n",
      "Epoch 7/30\n",
      "39/39 [==============================] - 0s 3ms/step - loss: 0.5024 - accuracy: 0.8803 - val_loss: 0.5616 - val_accuracy: 0.7964\n",
      "Epoch 8/30\n",
      "39/39 [==============================] - 0s 3ms/step - loss: 0.4644 - accuracy: 0.8904 - val_loss: 0.5376 - val_accuracy: 0.8000\n",
      "Epoch 9/30\n",
      "39/39 [==============================] - 0s 3ms/step - loss: 0.4296 - accuracy: 0.8989 - val_loss: 0.5179 - val_accuracy: 0.8036\n",
      "Epoch 10/30\n",
      "39/39 [==============================] - 0s 4ms/step - loss: 0.3986 - accuracy: 0.9030 - val_loss: 0.5002 - val_accuracy: 0.8036\n",
      "Epoch 11/30\n",
      "39/39 [==============================] - 0s 3ms/step - loss: 0.3710 - accuracy: 0.9066 - val_loss: 0.4850 - val_accuracy: 0.8109\n",
      "Epoch 12/30\n",
      "39/39 [==============================] - 0s 3ms/step - loss: 0.3471 - accuracy: 0.9114 - val_loss: 0.4722 - val_accuracy: 0.8145\n",
      "Epoch 13/30\n",
      "39/39 [==============================] - 0s 2ms/step - loss: 0.3258 - accuracy: 0.9159 - val_loss: 0.4621 - val_accuracy: 0.8145\n",
      "Epoch 14/30\n",
      "39/39 [==============================] - 0s 3ms/step - loss: 0.3067 - accuracy: 0.9187 - val_loss: 0.4527 - val_accuracy: 0.8182\n",
      "Epoch 15/30\n",
      "39/39 [==============================] - 0s 2ms/step - loss: 0.2901 - accuracy: 0.9216 - val_loss: 0.4455 - val_accuracy: 0.8145\n",
      "Epoch 16/30\n",
      "39/39 [==============================] - 0s 3ms/step - loss: 0.2750 - accuracy: 0.9236 - val_loss: 0.4402 - val_accuracy: 0.8182\n",
      "Epoch 17/30\n",
      "39/39 [==============================] - 0s 3ms/step - loss: 0.2614 - accuracy: 0.9264 - val_loss: 0.4355 - val_accuracy: 0.8182\n",
      "Epoch 18/30\n",
      "39/39 [==============================] - 0s 3ms/step - loss: 0.2493 - accuracy: 0.9288 - val_loss: 0.4312 - val_accuracy: 0.8145\n",
      "Epoch 19/30\n",
      "39/39 [==============================] - 0s 3ms/step - loss: 0.2381 - accuracy: 0.9325 - val_loss: 0.4284 - val_accuracy: 0.8182\n",
      "Epoch 20/30\n",
      "39/39 [==============================] - 0s 3ms/step - loss: 0.2282 - accuracy: 0.9329 - val_loss: 0.4265 - val_accuracy: 0.8182\n",
      "Epoch 21/30\n",
      "39/39 [==============================] - 0s 2ms/step - loss: 0.2190 - accuracy: 0.9345 - val_loss: 0.4239 - val_accuracy: 0.8182\n",
      "Epoch 22/30\n",
      "39/39 [==============================] - 0s 2ms/step - loss: 0.2105 - accuracy: 0.9357 - val_loss: 0.4244 - val_accuracy: 0.8145\n",
      "Epoch 23/30\n",
      "39/39 [==============================] - 0s 3ms/step - loss: 0.2024 - accuracy: 0.9389 - val_loss: 0.4236 - val_accuracy: 0.8182\n",
      "Epoch 24/30\n",
      "39/39 [==============================] - 0s 3ms/step - loss: 0.1952 - accuracy: 0.9434 - val_loss: 0.4230 - val_accuracy: 0.8182\n",
      "Epoch 25/30\n",
      "39/39 [==============================] - 0s 3ms/step - loss: 0.1885 - accuracy: 0.9446 - val_loss: 0.4221 - val_accuracy: 0.8182\n",
      "Epoch 26/30\n",
      "39/39 [==============================] - 0s 4ms/step - loss: 0.1822 - accuracy: 0.9450 - val_loss: 0.4237 - val_accuracy: 0.8182\n",
      "Epoch 27/30\n",
      "39/39 [==============================] - 0s 3ms/step - loss: 0.1761 - accuracy: 0.9458 - val_loss: 0.4237 - val_accuracy: 0.8182\n",
      "Epoch 28/30\n",
      "39/39 [==============================] - 0s 3ms/step - loss: 0.1707 - accuracy: 0.9486 - val_loss: 0.4250 - val_accuracy: 0.8182\n",
      "Epoch 29/30\n",
      "39/39 [==============================] - 0s 2ms/step - loss: 0.1655 - accuracy: 0.9519 - val_loss: 0.4272 - val_accuracy: 0.8255\n",
      "Epoch 30/30\n",
      "39/39 [==============================] - 0s 2ms/step - loss: 0.1607 - accuracy: 0.9531 - val_loss: 0.4287 - val_accuracy: 0.8255\n"
     ]
    }
   ],
   "source": [
    "# Setup model\n",
    "model = Sequential()\n",
    "model.add(Dense(20, input_dim=trainX.shape[1], activation='relu'))\n",
    "model.add(Dense(1,  activation='sigmoid'))\n",
    "model.compile(loss='binary_crossentropy', optimizer=Adam(lr=5e-4), metrics = ['accuracy'])\n",
    "model.summary()\n",
    "\n",
    "\n",
    "# Train model\n",
    "score = model.fit(trainX, trainY,\n",
    "                  epochs          = 30, \n",
    "                  batch_size      = 64, \n",
    "                  verbose         = 1, \n",
    "                  validation_data = (testX, testY))"
   ]
  },
  {
   "cell_type": "markdown",
   "metadata": {},
   "source": [
    "## Model evaluation"
   ]
  },
  {
   "cell_type": "code",
   "execution_count": 11,
   "metadata": {},
   "outputs": [
    {
     "data": {
      "image/png": "[encoded data removed]",
      "text/plain": [
       "<Figure size 864x360 with 2 Axes>"
      ]
     },
     "metadata": {
      "needs_background": "light"
     },
     "output_type": "display_data"
    },
    {
     "name": "stdout",
     "output_type": "stream",
     "text": [
      "Training Accuracy: 0.9563\n",
      "Testing Accuracy:  0.8255\n",
      "Accuracy = 82.55%\n",
      "AUC      = 0.82487\n",
      "F1       = 0.80645\n",
      "[[127  26]\n",
      " [ 22 100]]\n",
      "\n",
      "\n"
     ]
    }
   ],
   "source": [
    "# Print statistics\n",
    "plot_history(score)\n",
    "\n",
    "\n",
    "loss, accuracy = model.evaluate(trainX, trainY, verbose=False)\n",
    "print(\"Training Accuracy: {:.4f}\".format(accuracy))\n",
    "loss, accuracy = model.evaluate(testX, testY, verbose=False)\n",
    "print(\"Testing Accuracy:  {:.4f}\".format(accuracy))\n",
    "\n",
    "\n",
    "# Predictions of the classification model\n",
    "pred = model.predict(testX)\n",
    "\n",
    "# Evaluation of the classification model\n",
    "evaluate_model(testY, pred)"
   ]
  }
 ],
 "metadata": {
  "kernelspec": {
   "display_name": "NLP",
   "language": "python",
   "name": "python3"
  },
  "language_info": {
   "codemirror_mode": {
    "name": "ipython",
    "version": 3
   },
   "file_extension": ".py",
   "mimetype": "text/x-python",
   "name": "python",
   "nbconvert_exporter": "python",
   "pygments_lexer": "ipython3",
   "version": "3.7.10"
  },
  "orig_nbformat": 4,
  "vscode": {
   "interpreter": {
    "hash": "24513103fde56bb2b83e620cc549278f11e79fde4f670db3dc95f99c43b58a75"
   }
  }
 },
 "nbformat": 4,
 "nbformat_minor": 2
}
