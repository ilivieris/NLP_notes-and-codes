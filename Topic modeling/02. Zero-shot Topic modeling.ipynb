{
 "cells": [
  {
   "attachments": {},
   "cell_type": "markdown",
   "metadata": {},
   "source": [
    "# Zero-shot Topic modeling\n",
    "\n",
    "https://medium.com/grabngoinfo/zero-shot-topic-modeling-with-deep-learning-using-python-a895d2d0c773"
   ]
  },
  {
   "cell_type": "code",
   "execution_count": null,
   "metadata": {},
   "outputs": [],
   "source": [
    "# Data processing\n",
    "import pandas as pd\n",
    "\n",
    "# Modeling\n",
    "from transformers import pipeline\n",
    "classifier = pipeline(task=\"zero-shot-classification\", \n",
    "                    #   model=\"facebook/bart-large-mnli\",\n",
    "                      model='joeddav/bart-large-mnli-yahoo-answers',\n",
    "                      device=0) "
   ]
  },
  {
   "cell_type": "code",
   "execution_count": null,
   "metadata": {},
   "outputs": [],
   "source": [
    "# Sentiment Labelled Sentences Data Set (UCI)\n",
    "# This data set includes labeled reviews from \n",
    "# 1. IMDb, \n",
    "# 2. Amazon\n",
    "# 3. Yelp. \n",
    "# Each review is marked with a score of 0 for a negative sentiment \n",
    "# or 1 for a positive sentiment.\n",
    "from utils.load_dataset import *\n",
    "df = load_dataset()\n",
    "df['label'] = df['label'].apply(lambda x: 'positive' if x == 1 else 'negative')\n",
    "df.head(3)"
   ]
  },
  {
   "cell_type": "code",
   "execution_count": null,
   "metadata": {},
   "outputs": [],
   "source": [
    "# Put reviews in a list\n",
    "sequences = df['sentence'].to_list()\n",
    "\n",
    "# Define the candidate labels \n",
    "candidate_labels = ['positive', 'negative']\n",
    "\n",
    "# Set the hyppothesis template\n",
    "hypothesis_template = \"The topic of this review is {}.\"\n",
    "\n",
    "# Prediction results\n",
    "single_topic_prediction = classifier(sequences, candidate_labels, hypothesis_template=hypothesis_template)\n",
    "\n",
    "# Save the output as a dataframe\n",
    "single_topic_prediction = pd.DataFrame(single_topic_prediction)\n",
    "\n",
    "# Take a look at the data\n",
    "single_topic_prediction.head()"
   ]
  },
  {
   "cell_type": "code",
   "execution_count": null,
   "metadata": {},
   "outputs": [],
   "source": []
  }
 ],
 "metadata": {
  "kernelspec": {
   "display_name": "NLP",
   "language": "python",
   "name": "python3"
  },
  "language_info": {
   "codemirror_mode": {
    "name": "ipython",
    "version": 3
   },
   "file_extension": ".py",
   "mimetype": "text/x-python",
   "name": "python",
   "nbconvert_exporter": "python",
   "pygments_lexer": "ipython3",
   "version": "3.7.10"
  },
  "orig_nbformat": 4
 },
 "nbformat": 4,
 "nbformat_minor": 2
}
