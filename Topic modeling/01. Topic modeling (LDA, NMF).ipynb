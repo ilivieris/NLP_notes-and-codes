{
 "cells": [
  {
   "attachments": {},
   "cell_type": "markdown",
   "metadata": {},
   "source": [
    "# Libraries"
   ]
  },
  {
   "cell_type": "code",
   "execution_count": 4,
   "metadata": {},
   "outputs": [],
   "source": [
    "import warnings\n",
    "warnings.filterwarnings(\"ignore\")\n",
    "\n",
    "import os\n",
    "os.environ['TF_CPP_MIN_LOG_LEVEL'] = '3' \n",
    "\n",
    "import random\n",
    "import numpy                         as np\n",
    "import pandas                        as pd\n",
    "\n",
    "from sklearn.model_selection         import train_test_split\n",
    "from sklearn.feature_extraction.text import CountVectorizer\n",
    "\n",
    "from utils.load_dataset import *\n",
    "from utils.utils import evaluate_model\n",
    "from utils.text_preprocessing import *"
   ]
  },
  {
   "cell_type": "code",
   "execution_count": 5,
   "metadata": {},
   "outputs": [],
   "source": [
    "random_state = 42\n",
    "\n",
    "random.seed(random_state)\n",
    "os.environ[\"PYTHONHASHSEED\"] = str(random_state)\n",
    "np.random.seed(random_state)"
   ]
  },
  {
   "attachments": {},
   "cell_type": "markdown",
   "metadata": {},
   "source": [
    "# Dataset"
   ]
  },
  {
   "cell_type": "code",
   "execution_count": 6,
   "metadata": {},
   "outputs": [
    {
     "data": {
      "text/html": [
       "<div>\n",
       "<style scoped>\n",
       "    .dataframe tbody tr th:only-of-type {\n",
       "        vertical-align: middle;\n",
       "    }\n",
       "\n",
       "    .dataframe tbody tr th {\n",
       "        vertical-align: top;\n",
       "    }\n",
       "\n",
       "    .dataframe thead th {\n",
       "        text-align: right;\n",
       "    }\n",
       "</style>\n",
       "<table border=\"1\" class=\"dataframe\">\n",
       "  <thead>\n",
       "    <tr style=\"text-align: right;\">\n",
       "      <th></th>\n",
       "      <th>sentence</th>\n",
       "      <th>label</th>\n",
       "      <th>source</th>\n",
       "    </tr>\n",
       "  </thead>\n",
       "  <tbody>\n",
       "    <tr>\n",
       "      <th>0</th>\n",
       "      <td>Wow... Loved this place.</td>\n",
       "      <td>1</td>\n",
       "      <td>yelp</td>\n",
       "    </tr>\n",
       "    <tr>\n",
       "      <th>1</th>\n",
       "      <td>Crust is not good.</td>\n",
       "      <td>0</td>\n",
       "      <td>yelp</td>\n",
       "    </tr>\n",
       "    <tr>\n",
       "      <th>2</th>\n",
       "      <td>Not tasty and the texture was just nasty.</td>\n",
       "      <td>0</td>\n",
       "      <td>yelp</td>\n",
       "    </tr>\n",
       "  </tbody>\n",
       "</table>\n",
       "</div>"
      ],
      "text/plain": [
       "                                    sentence  label source\n",
       "0                   Wow... Loved this place.      1   yelp\n",
       "1                         Crust is not good.      0   yelp\n",
       "2  Not tasty and the texture was just nasty.      0   yelp"
      ]
     },
     "execution_count": 6,
     "metadata": {},
     "output_type": "execute_result"
    }
   ],
   "source": [
    "# Sentiment Labelled Sentences Data Set (UCI)\n",
    "# This data set includes labeled reviews from \n",
    "# 1. IMDb, \n",
    "# 2. Amazon\n",
    "# 3. Yelp. \n",
    "# Each review is marked with a score of 0 for a negative sentiment \n",
    "# or 1 for a positive sentiment.\n",
    "df = load_dataset()\n",
    "\n",
    "df.head(3)"
   ]
  },
  {
   "attachments": {},
   "cell_type": "markdown",
   "metadata": {},
   "source": [
    "## Create train/test datasets"
   ]
  },
  {
   "cell_type": "code",
   "execution_count": 7,
   "metadata": {},
   "outputs": [],
   "source": [
    "df_train, df_test = train_test_split(df, test_size=0.1, random_state=random_state)\n",
    "\n",
    "Sentences_train = df_train['sentence']\n",
    "Sentences_test = df_test['sentence']"
   ]
  },
  {
   "attachments": {},
   "cell_type": "markdown",
   "metadata": {},
   "source": [
    "## Preprocess data\n",
    "1. Lower case\n",
    "2. Remove punct\n",
    "2. Remove stopping words\n",
    "3. Lemmatization (or Stemming)"
   ]
  },
  {
   "cell_type": "code",
   "execution_count": 8,
   "metadata": {},
   "outputs": [],
   "source": [
    "Sentences_train = preprocess(Series=Sentences_train, verbose=False)\n",
    "Sentences_test = preprocess(Series=Sentences_test, verbose=False)"
   ]
  },
  {
   "attachments": {},
   "cell_type": "markdown",
   "metadata": {},
   "source": [
    "# Topic modeling using LDA"
   ]
  },
  {
   "cell_type": "code",
   "execution_count": 9,
   "metadata": {},
   "outputs": [],
   "source": [
    "# Vectorization process\n",
    "vectorizer = CountVectorizer(min_df = 2, max_df = 0.9)\n",
    "vectorizer.fit(Sentences_train)\n",
    "\n",
    "trainX = vectorizer.transform(Sentences_train)\n",
    "testX  = vectorizer.transform(Sentences_test)"
   ]
  },
  {
   "cell_type": "markdown",
   "metadata": {},
   "source": [
    "## Setup model & train"
   ]
  },
  {
   "cell_type": "code",
   "execution_count": 10,
   "metadata": {},
   "outputs": [
    {
     "data": {
      "text/plain": [
       "LatentDirichletAllocation(n_components=2, random_state=42)"
      ]
     },
     "execution_count": 10,
     "metadata": {},
     "output_type": "execute_result"
    }
   ],
   "source": [
    "from sklearn.decomposition import LatentDirichletAllocation\n",
    "\n",
    "LDA = LatentDirichletAllocation(n_components=2, random_state=42)\n",
    "LDA.fit(trainX)"
   ]
  },
  {
   "cell_type": "markdown",
   "metadata": {},
   "source": [
    "## Model evaluation"
   ]
  },
  {
   "cell_type": "code",
   "execution_count": 11,
   "metadata": {},
   "outputs": [
    {
     "name": "stdout",
     "output_type": "stream",
     "text": [
      "Top-15 words in Topic: 0\n",
      "['get', 'look', 'could', 'battery', 'sound', 'great', 'headset', 'ive', 'one', 'time', 'well', 'quality', 'work', 'phone', 'good']\n",
      "\n",
      "\n",
      "Top-15 words in Topic: 1\n",
      "['bad', 'go', 'would', 'back', 'time', 'best', 'dont', 'one', 'like', 'place', 'service', 'food', 'film', 'great', 'movie']\n",
      "\n",
      "\n"
     ]
    }
   ],
   "source": [
    "for i, topic in enumerate(LDA.components_):\n",
    "    print(f'Top-15 words in Topic: {i}')\n",
    "    print([vectorizer.get_feature_names()[idx] for idx in topic.argsort()[-15:]])\n",
    "    print('\\n')"
   ]
  },
  {
   "cell_type": "code",
   "execution_count": 12,
   "metadata": {},
   "outputs": [
    {
     "name": "stdout",
     "output_type": "stream",
     "text": [
      "Training dataset\n",
      "Accuracy = 50.51%\n",
      "AUC      = 0.50449\n",
      "F1       = 0.52262\n",
      "[[579 630]\n",
      " [594 670]]\n",
      "\n",
      "\n",
      "Testing dataset\n",
      "Accuracy = 51.27%\n",
      "AUC      = 0.52057\n",
      "F1       = 0.51799\n",
      "[[69 84]\n",
      " [50 72]]\n",
      "\n",
      "\n"
     ]
    }
   ],
   "source": [
    "topic_results_train = LDA.transform(trainX)\n",
    "topic_results_test = LDA.transform(testX)\n",
    "\n",
    "df_train['topic'] = topic_results_train.argmax(axis=1)\n",
    "df_test['topic'] = topic_results_test.argmax(axis=1)\n",
    "\n",
    "\n",
    "print('Training dataset')\n",
    "evaluate_model(df_train['label'], df_train['topic'])\n",
    "\n",
    "print('Testing dataset')\n",
    "evaluate_model(df_test['label'], df_test['topic'])"
   ]
  },
  {
   "attachments": {},
   "cell_type": "markdown",
   "metadata": {},
   "source": [
    "# Topic modeling using Non-negative Matrix Factorization"
   ]
  },
  {
   "cell_type": "code",
   "execution_count": 13,
   "metadata": {},
   "outputs": [],
   "source": [
    "# Vectorization process\n",
    "from sklearn.feature_extraction.text import TfidfVectorizer\n",
    "\n",
    "vectorizer = TfidfVectorizer(min_df = 2, max_df = 0.9)\n",
    "vectorizer.fit(Sentences_train)\n",
    "\n",
    "trainX = vectorizer.transform(Sentences_train)\n",
    "testX  = vectorizer.transform(Sentences_test)"
   ]
  },
  {
   "cell_type": "markdown",
   "metadata": {},
   "source": [
    "## Setup model & train"
   ]
  },
  {
   "cell_type": "code",
   "execution_count": 14,
   "metadata": {},
   "outputs": [
    {
     "data": {
      "text/plain": [
       "NMF(n_components=2, random_state=42)"
      ]
     },
     "execution_count": 14,
     "metadata": {},
     "output_type": "execute_result"
    }
   ],
   "source": [
    "from sklearn.decomposition import NMF\n",
    "\n",
    "nmf_model = NMF(n_components=2, random_state=42)\n",
    "nmf_model.fit(trainX)"
   ]
  },
  {
   "cell_type": "markdown",
   "metadata": {},
   "source": [
    "## Model evaluation"
   ]
  },
  {
   "cell_type": "code",
   "execution_count": 15,
   "metadata": {},
   "outputs": [
    {
     "name": "stdout",
     "output_type": "stream",
     "text": [
      "Top-15 words in Topic: 0\n",
      "['deal', 'movie', 'one', 'love', 'time', 'film', 'place', 'battery', 'product', 'price', 'food', 'service', 'work', 'phone', 'great']\n",
      "\n",
      "\n",
      "Top-15 words in Topic: 1\n",
      "['dont', 'product', 'film', 'bad', 'pretty', 'excellent', 'time', 'quality', 'really', 'movie', 'place', 'price', 'service', 'food', 'good']\n",
      "\n",
      "\n"
     ]
    }
   ],
   "source": [
    "for i, topic in enumerate(nmf_model.components_):\n",
    "    print(f'Top-15 words in Topic: {i}')\n",
    "    print([vectorizer.get_feature_names()[idx] for idx in topic.argsort()[-15:]])\n",
    "    print('\\n')"
   ]
  },
  {
   "cell_type": "code",
   "execution_count": 16,
   "metadata": {},
   "outputs": [
    {
     "name": "stdout",
     "output_type": "stream",
     "text": [
      "Training dataset\n",
      "Accuracy = 46.30%\n",
      "AUC      = 0.45838\n",
      "F1       = 0.55910\n",
      "[[303 906]\n",
      " [422 842]]\n",
      "\n",
      "\n",
      "Testing dataset\n",
      "Accuracy = 44.73%\n",
      "AUC      = 0.47088\n",
      "F1       = 0.52201\n",
      "[[ 40 113]\n",
      " [ 39  83]]\n",
      "\n",
      "\n"
     ]
    }
   ],
   "source": [
    "topic_results_train = nmf_model.transform(trainX)\n",
    "topic_results_test = nmf_model.transform(testX)\n",
    "\n",
    "df_train['topic'] = topic_results_train.argmax(axis=1)\n",
    "df_test['topic'] = topic_results_test.argmax(axis=1)\n",
    "\n",
    "\n",
    "print('Training dataset')\n",
    "evaluate_model(df_train['label'], df_train['topic'])\n",
    "\n",
    "print('Testing dataset')\n",
    "evaluate_model(df_test['label'], df_test['topic'])"
   ]
  },
  {
   "cell_type": "code",
   "execution_count": null,
   "metadata": {},
   "outputs": [],
   "source": []
  }
 ],
 "metadata": {
  "kernelspec": {
   "display_name": "NLP",
   "language": "python",
   "name": "python3"
  },
  "language_info": {
   "codemirror_mode": {
    "name": "ipython",
    "version": 3
   },
   "file_extension": ".py",
   "mimetype": "text/x-python",
   "name": "python",
   "nbconvert_exporter": "python",
   "pygments_lexer": "ipython3",
   "version": "3.7.10"
  },
  "orig_nbformat": 4,
  "vscode": {
   "interpreter": {
    "hash": "24513103fde56bb2b83e620cc549278f11e79fde4f670db3dc95f99c43b58a75"
   }
  }
 },
 "nbformat": 4,
 "nbformat_minor": 2
}
