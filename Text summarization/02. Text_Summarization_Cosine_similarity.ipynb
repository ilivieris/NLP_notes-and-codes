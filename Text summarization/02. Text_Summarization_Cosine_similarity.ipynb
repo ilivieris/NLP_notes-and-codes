{
  "cells": [
    {
      "cell_type": "markdown",
      "metadata": {
        "id": "sPGfCKXebWbH"
      },
      "source": [
        "# Text summarization - Cosine similarity"
      ]
    },
    {
      "cell_type": "markdown",
      "metadata": {
        "id": "q8hjBnVEbbEq"
      },
      "source": [
        "# Preparing the environment"
      ]
    },
    {
      "cell_type": "code",
      "execution_count": 1,
      "metadata": {
        "id": "m1LwWn7XbPRa"
      },
      "outputs": [
        {
          "name": "stderr",
          "output_type": "stream",
          "text": [
            "[nltk_data] Downloading package punkt to\n",
            "[nltk_data]     C:\\Users\\poseidon\\AppData\\Roaming\\nltk_data...\n",
            "[nltk_data]   Package punkt is already up-to-date!\n",
            "[nltk_data] Downloading package stopwords to\n",
            "[nltk_data]     C:\\Users\\poseidon\\AppData\\Roaming\\nltk_data...\n",
            "[nltk_data]   Package stopwords is already up-to-date!\n"
          ]
        }
      ],
      "source": [
        "import re\n",
        "import nltk\n",
        "import string\n",
        "import numpy as np\n",
        "import networkx as nx\n",
        "from nltk.cluster.util import cosine_distance\n",
        "from utils.visualize import visualize\n",
        "\n",
        "nltk.download('punkt')\n",
        "nltk.download('stopwords')\n",
        "stopwords = nltk.corpus.stopwords.words('english')"
      ]
    },
    {
      "cell_type": "code",
      "execution_count": 2,
      "metadata": {
        "id": "TNFbY6H1ervC"
      },
      "outputs": [],
      "source": [
        "def preprocess(text):\n",
        "  formatted_text = text.lower()\n",
        "  tokens = []\n",
        "  for token in nltk.word_tokenize(formatted_text):\n",
        "    tokens.append(token)\n",
        "  tokens = [word for word in tokens if word not in stopwords and word not in string.punctuation]\n",
        "  formatted_text = ' '.join(element for element in tokens)\n",
        "\n",
        "  return formatted_text"
      ]
    },
    {
      "cell_type": "code",
      "execution_count": 3,
      "metadata": {
        "colab": {
          "base_uri": "https://localhost:8080/",
          "height": 72
        },
        "id": "KhkaxziLctKz",
        "outputId": "40244d68-976a-4953-c485-917ec81f0f8f"
      },
      "outputs": [
        {
          "data": {
            "text/plain": [
              "'Artificial intelligence is human like intelligence. It is the study of intelligent artificial agents. Science and engineering to produce intelligent machines. Solve problems and have intelligence. Related to intelligent behavior. Developing of reasoning machines. Learn from mistakes and successes. Artificial intelligence is related to reasoning in everyday situations.'"
            ]
          },
          "execution_count": 3,
          "metadata": {},
          "output_type": "execute_result"
        }
      ],
      "source": [
        "original_text = \"\"\"Artificial intelligence is human like intelligence. \n",
        "                   It is the study of intelligent artificial agents. \n",
        "                   Science and engineering to produce intelligent machines. \n",
        "                   Solve problems and have intelligence. \n",
        "                   Related to intelligent behavior. \n",
        "                   Developing of reasoning machines. \n",
        "                   Learn from mistakes and successes. \n",
        "                   Artificial intelligence is related to reasoning in everyday situations.\"\"\"\n",
        "\n",
        "original_text = re.sub(r'\\s+', ' ', original_text)\n",
        "\n",
        "original_text"
      ]
    },
    {
      "cell_type": "markdown",
      "metadata": {
        "id": "UfuFBQ06iahM"
      },
      "source": [
        "# Function to calculate similarity between sentences\n",
        "\n",
        "- Link: https://en.wikipedia.org/wiki/Cosine_similarity\n",
        "- Step by step calculations: https://janav.wordpress.com/2013/10/27/tf-idf-and-cosine-similarity/"
      ]
    },
    {
      "cell_type": "code",
      "execution_count": 4,
      "metadata": {
        "colab": {
          "base_uri": "https://localhost:8080/"
        },
        "id": "-1QO30eRsnTU",
        "outputId": "749deeaf-2b8f-4038-f5f4-ba46d11f844e"
      },
      "outputs": [],
      "source": [
        "original_sentences = [sentence for sentence in nltk.sent_tokenize(original_text)]\n",
        "\n",
        "formatted_sentences = [preprocess(original_sentence) for original_sentence in original_sentences]"
      ]
    },
    {
      "cell_type": "code",
      "execution_count": 5,
      "metadata": {
        "id": "wcNHQJDRtHg1"
      },
      "outputs": [],
      "source": [
        "def calculate_sentence_similarity(sentence1, sentence2):\n",
        "  words1 = [word for word in nltk.word_tokenize(sentence1)]\n",
        "  words2 = [word for word in nltk.word_tokenize(sentence2)]\n",
        "  #print(words1)\n",
        "  #print(words2)\n",
        "\n",
        "  all_words = list(set(words1 + words2))\n",
        "  #print(all_words)\n",
        "\n",
        "  vector1 = [0] * len(all_words)\n",
        "  vector2 = [0] * len(all_words)\n",
        "  #print(vector1)\n",
        "  #print(vector2)\n",
        "\n",
        "  for word in words1: # Bag of words\n",
        "    #print(word)\n",
        "    vector1[all_words.index(word)] += 1\n",
        "  for word in words2:\n",
        "    vector2[all_words.index(word)] += 1\n",
        "  \n",
        "  #print(vector1)\n",
        "  #print(vector2)\n",
        "\n",
        "  return 1 - cosine_distance(vector1, vector2)"
      ]
    },
    {
      "cell_type": "markdown",
      "metadata": {
        "id": "vrBir9vnijWB"
      },
      "source": [
        "# Function to create the similarity matrix"
      ]
    },
    {
      "cell_type": "code",
      "execution_count": 6,
      "metadata": {
        "id": "S4n2rnRs24s2"
      },
      "outputs": [],
      "source": [
        "# The higher the value, the greater the similarity between the sentences\n",
        "# The more words in common, the greater the similarity\n",
        "# \n",
        "def calculate_similarity_matrix(sentences):\n",
        "  similarity_matrix = np.zeros((len(sentences), len(sentences)))\n",
        "  #print(similarity_matrix)\n",
        "  for i in range(len(sentences)):\n",
        "    for j in range(len(sentences)):\n",
        "      if i == j:\n",
        "        continue\n",
        "      similarity_matrix[i][j] = calculate_sentence_similarity(sentences[i], sentences[j])\n",
        "  return similarity_matrix"
      ]
    },
    {
      "cell_type": "markdown",
      "metadata": {
        "id": "whPYH6nUiEHQ"
      },
      "source": [
        "# Function to summarize the texts\n",
        "\n",
        "- Pagerank algorithm: https://en.wikipedia.org/wiki/PageRank\n"
      ]
    },
    {
      "cell_type": "code",
      "execution_count": 7,
      "metadata": {
        "colab": {
          "base_uri": "https://localhost:8080/"
        },
        "id": "MXiKvAUHJWJ_",
        "outputId": "996b1d63-3215-421a-9f49-70acda613ac2"
      },
      "outputs": [
        {
          "name": "stdout",
          "output_type": "stream",
          "text": [
            "0 Artificial intelligence is human like intelligence.\n",
            "1 It is the study of intelligent artificial agents.\n",
            "2 Science and engineering to produce intelligent machines.\n",
            "3 Solve problems and have intelligence.\n",
            "4 Related to intelligent behavior.\n",
            "5 Developing of reasoning machines.\n",
            "6 Learn from mistakes and successes.\n",
            "7 Artificial intelligence is related to reasoning in everyday situations.\n"
          ]
        }
      ],
      "source": [
        "for i, score in enumerate(original_sentences):\n",
        "  print(i, score)"
      ]
    },
    {
      "cell_type": "code",
      "execution_count": 8,
      "metadata": {
        "id": "R96R6V34EPYI"
      },
      "outputs": [],
      "source": [
        "def summarize(text, number_of_sentences, percentage = 0):\n",
        "  original_sentences = [sentence for sentence in nltk.sent_tokenize(text)]\n",
        "  formatted_sentences = [preprocess(original_sentence) for original_sentence in original_sentences]\n",
        "  similarity_matrix = calculate_similarity_matrix(formatted_sentences)\n",
        "  #print(similarity_matrix)\n",
        "\n",
        "  similarity_graph = nx.from_numpy_array(similarity_matrix)\n",
        "  #print(similarity_graph.nodes)\n",
        "  #print(similarity_graph.edges)\n",
        "\n",
        "  scores = nx.pagerank(similarity_graph)\n",
        "  #print(scores)\n",
        "  ordered_scores = sorted(((scores[i], score) for i, score in enumerate(original_sentences)), reverse=True)\n",
        "  #print(ordered_scores)\n",
        "\n",
        "  if percentage > 0:\n",
        "    number_of_sentences = int(len(formatted_sentences) * percentage)\n",
        "\n",
        "  best_sentences = []\n",
        "  for sentence in range(number_of_sentences):\n",
        "    best_sentences.append(ordered_scores[sentence][1])\n",
        "  \n",
        "  return original_sentences, best_sentences, ordered_scores"
      ]
    },
    {
      "cell_type": "code",
      "execution_count": 9,
      "metadata": {
        "id": "E4vsFNFKEsaI"
      },
      "outputs": [],
      "source": [
        "original_sentences, best_sentences, scores = summarize(original_text, 3)"
      ]
    },
    {
      "cell_type": "code",
      "execution_count": 10,
      "metadata": {
        "colab": {
          "base_uri": "https://localhost:8080/",
          "height": 128
        },
        "id": "ptHdk3p8LrPd",
        "outputId": "50f671a8-3f65-4347-9635-48cec0defd77"
      },
      "outputs": [
        {
          "data": {
            "text/html": [
              "<h1>Summary - Artificial intelligence</h1>"
            ],
            "text/plain": [
              "<IPython.core.display.HTML object>"
            ]
          },
          "metadata": {},
          "output_type": "display_data"
        },
        {
          "data": {
            "text/html": [
              "  <mark>Artificial intelligence is human like intelligence.</mark> <mark>It is the study of intelligent artificial agents.</mark> Science and engineering to produce intelligent machines. Solve problems and have intelligence. Related to intelligent behavior. Developing of reasoning machines. Learn from mistakes and successes. <mark>Artificial intelligence is related to reasoning in everyday situations.</mark> "
            ],
            "text/plain": [
              "<IPython.core.display.HTML object>"
            ]
          },
          "metadata": {},
          "output_type": "display_data"
        }
      ],
      "source": [
        "visualize('Artificial intelligence', original_sentences, best_sentences)"
      ]
    },
    {
      "cell_type": "markdown",
      "metadata": {
        "id": "U6z-C9JozqZu"
      },
      "source": [
        "# Extracting texts from the Internet"
      ]
    },
    {
      "cell_type": "code",
      "execution_count": 11,
      "metadata": {
        "id": "CinKNJUkQYfl"
      },
      "outputs": [],
      "source": [
        "from goose3.goose3 import Goose\n",
        "\n",
        "g = Goose()\n",
        "url = 'https://en.wikipedia.org/wiki/Automatic_summarization'\n",
        "article = g.extract(url)"
      ]
    },
    {
      "cell_type": "code",
      "execution_count": 12,
      "metadata": {
        "id": "6Pl3pLBVQoYf"
      },
      "outputs": [],
      "source": [
        "original_sentences, best_sentences, scores = summarize(article.cleaned_text, number_of_sentences=120, percentage=0.2)"
      ]
    },
    {
      "cell_type": "code",
      "execution_count": 13,
      "metadata": {
        "colab": {
          "base_uri": "https://localhost:8080/",
          "height": 1000
        },
        "id": "valF-A7xRTBE",
        "outputId": "08658bf5-ca10-48b3-d1e4-675155e254f8"
      },
      "outputs": [
        {
          "data": {
            "text/html": [
              "<h1>Summary - Automatic summarization - Wikipedia</h1>"
            ],
            "text/plain": [
              "<IPython.core.display.HTML object>"
            ]
          },
          "metadata": {},
          "output_type": "display_data"
        },
        {
          "data": {
            "text/html": [
              "  <mark>Automatic summarization is the process of shortening a set of data computationally, to create a subset (a summary) that represents the most important or relevant information within the original content.</mark> Artificial intelligence algorithms are commonly developed and employed to achieve this, specialized for different types of data. <mark>Text summarization is usually implemented by natural language processing methods, designed to locate the most informative sentences in a given document.</mark> [1] On the other hand, visual content can be summarized using computer vision algorithms. Image summarization is the subject of ongoing research; existing approaches typically attempt to display the most representative images from a given image collection, or generate a video that only includes the most important content from the entire collection. [2][3][4] Video summarization algorithms identify and extract from the original video content the most important frames (key-frames), and/or the most important video segments (key-shots), normally in a temporally ordered fashion. [5][6][7][8] Video summaries simply retain a carefully selected subset of the original video frames and, therefore, are not identical to the output of video synopsis algorithms, where new video frames are being synthesized based on the original video content. <mark>There are two general approaches to automatic summarization: extraction and abstraction.</mark> Here, content is extracted from the original data, but the extracted content is not modified in any way. <mark>Examples of extracted content include key-phrases that can be used to \"tag\" or index a text document, or key sentences (including headings) that collectively comprise an abstract, and representative images or video segments, as stated above.</mark> For text, extraction is analogous to the process of skimming, where the summary (if available), headings and subheadings, figures, the first and last paragraphs of a section, and optionally the first and last sentences in a paragraph are read before one chooses to read the entire document in detail. [10] Other examples of extraction that include key sequences of text in terms of clinical relevance (including patient/problem, intervention, and outcome). <mark>[11]\n",
              "\n",
              "Abstractive summarization methods generate new text that did not exist in the original text.</mark> [12] This has been applied mainly for text. Abstractive methods build an internal semantic representation of the original content (often called a language model), and then use this representation to create a summary that is closer to what a human might express. Abstraction may transform the extracted content by paraphrasing sections of the source document, to condense a text more strongly than extraction. Such transformation, however, is computationally much more challenging than extraction, involving both natural language processing and often a deep understanding of the domain of the original text in cases where the original document relates to a special field of knowledge. <mark>\"Paraphrasing\" is even more difficult to apply to image and video, which is why most summarization systems are extractive.</mark> Approaches aimed at higher summarization quality rely on combined software and human effort. In Machine Aided Human Summarization, extractive techniques highlight candidate passages for inclusion (to which the human adds or removes text). In Human Aided Machine Summarization, a human post-processes software output, in the same way that one edits the output of automatic translation by Google Translate. <mark>There are broadly two types of extractive summarization tasks depending on what the summarization program focuses on.</mark> The first is generic summarization, which focuses on obtaining a generic summary or abstract of the collection (whether documents, or sets of images, or videos, news stories etc.). The second is query relevant summarization, sometimes called query-based summarization, which summarizes objects specific to a query. <mark>Summarization systems are able to create both query relevant text summaries and generic machine-generated summaries depending on what the user needs.</mark> <mark>An example of a summarization problem is document summarization, which attempts to automatically produce an abstract from a given document.</mark> Sometimes one might be interested in generating a summary from a single source document, while others can use multiple source documents (for example, a cluster of articles on the same topic). <mark>This problem is called multi-document summarization.</mark> A related application is summarizing news articles. Imagine a system, which automatically pulls together news articles on a given topic (from the web), and concisely represents the latest news as a summary. <mark>Image collection summarization is another application example of automatic summarization.</mark> It consists in selecting a representative set of images from a larger set of images. [13] A summary in this context is useful to show the most representative images of results in an image collection exploration system. Video summarization is a related domain, where the system automatically creates a trailer of a long video. This also has applications in consumer or personal videos, where one might want to skip the boring or repetitive actions. Similarly, in surveillance videos, one would want to extract important and suspicious activity, while ignoring all the boring and redundant frames captured. <mark>At a very high level, summarization algorithms try to find subsets of objects (like set of sentences, or a set of images), which cover information of the entire set.</mark> This is also called the core-set. These algorithms model notions like diversity, coverage, information and representativeness of the summary. Query based summarization techniques, additionally model for relevance of the summary with the query. <mark>Some techniques and algorithms which naturally model summarization problems are TextRank and PageRank, Submodular set function, Determinantal point process, maximal marginal relevance (MMR) etc.</mark> The task is the following. You are given a piece of text, such as a journal article, and you must produce a list of keywords or key[phrase]s that capture the primary topics discussed in the text. [14] In the case of research articles, many authors provide manually assigned keywords, but most text lacks pre-existing keyphrases. For example, news articles rarely have keyphrases attached, but it would be useful to be able to automatically do so for a number of applications discussed below. <mark>Consider the example text from a news article:\n",
              "\n",
              "A keyphrase extractor might select \"Army Corps of Engineers\", \"President Bush\", \"New Orleans\", and \"defective flood-control pumps\" as keyphrases.</mark> These are pulled directly from the text. <mark>In contrast, an abstractive keyphrase system would somehow internalize the content and generate keyphrases that do not appear in the text, but more closely resemble what a human might produce, such as \"political negligence\" or \"inadequate protection from floods\".</mark> Abstraction requires a deep understanding of the text, which makes it difficult for a computer system. Keyphrases have many applications. They can enable document browsing by providing a short summary, improve information retrieval (if documents have keyphrases assigned, a user could search by keyphrase to produce more reliable hits than a full-text search), and be employed in generating index entries for a large text corpus. Depending on the different literature and the definition of key terms, words or phrases, keyword extraction is a highly related theme. Beginning with the work of Turney,[15] many researchers have approached keyphrase extraction as a supervised machine learning problem. Given a document, we construct an example for each unigram, bigram, and trigram found in the text (though other text units are also possible, as discussed below). We then compute various features describing each example (e.g., does the phrase begin with an upper-case letter?). We assume there are known keyphrases available for a set of training documents. Using the known keyphrases, we can assign positive or negative labels to the examples. Then we learn a classifier that can discriminate between positive and negative examples as a function of the features. Some classifiers make a binary classification for a test example, while others assign a probability of being a keyphrase. For instance, in the above text, we might learn a rule that says phrases with initial capital letters are likely to be keyphrases. After training a learner, we can select keyphrases for test documents in the following manner. We apply the same example-generation strategy to the test documents, then run each example through the learner. We can determine the keyphrases by looking at binary classification decisions or probabilities returned from our learned model. If probabilities are given, a threshold is used to select the keyphrases. Keyphrase extractors are generally evaluated using precision and recall. Precision measures how many of the proposed keyphrases are actually correct. Recall measures how many of the true keyphrases your system proposed. The two measures can be combined in an F-score, which is the harmonic mean of the two (F = 2PR/(P + R) ). Matches between the proposed keyphrases and the known keyphrases can be checked after stemming or applying some other text normalization. Designing a supervised keyphrase extraction system involves deciding on several choices (some of these apply to unsupervised, too). The first choice is exactly how to generate examples. Turney and others have used all possible unigrams, bigrams, and trigrams without intervening punctuation and after removing stopwords. Hulth showed that you can get some improvement by selecting examples to be sequences of tokens that match certain patterns of part-of-speech tags. Ideally, the mechanism for generating examples produces all the known labeled keyphrases as candidates, though this is often not the case. For example, if we use only unigrams, bigrams, and trigrams, then we will never be able to extract a known keyphrase containing four words. Thus, recall may suffer. However, generating too many examples can also lead to low precision. We also need to create features that describe the examples and are informative enough to allow a learning algorithm to discriminate keyphrases from non- keyphrases. Typically features involve various term frequencies (how many times a phrase appears in the current text or in a larger corpus), the length of the example, relative position of the first occurrence, various boolean syntactic features (e.g., contains all caps), etc. The Turney paper used about 12 such features. Hulth uses a reduced set of features, which were found most successful in the KEA (Keyphrase Extraction Algorithm) work derived from Turney's seminal paper. In the end, the system will need to return a list of keyphrases for a test document, so we need to have a way to limit the number. Ensemble methods (i.e., using votes from several classifiers) have been used to produce numeric scores that can be thresholded to provide a user-provided number of keyphrases. This is the technique used by Turney with C4.5 decision trees. Hulth used a single binary classifier so the learning algorithm implicitly determines the appropriate number. Once examples and features are created, we need a way to learn to predict keyphrases. Virtually any supervised learning algorithm could be used, such as decision trees, Naive Bayes, and rule induction. In the case of Turney's GenEx algorithm, a genetic algorithm is used to learn parameters for a domain-specific keyphrase extraction algorithm. The extractor follows a series of heuristics to identify keyphrases. The genetic algorithm optimizes parameters for these heuristics with respect to performance on training documents with known key phrases. Another keyphrase extraction algorithm is TextRank. While supervised methods have some nice properties, like being able to produce interpretable rules for what features characterize a keyphrase, they also require a large amount of training data. Many documents with known keyphrases are needed. Furthermore, training on a specific domain tends to customize the extraction process to that domain, so the resulting classifier is not necessarily portable, as some of Turney's results demonstrate. Unsupervised keyphrase extraction removes the need for training data. It approaches the problem from a different angle. <mark>Instead of trying to learn explicit features that characterize keyphrases, the TextRank algorithm[16] exploits the structure of the text itself to determine keyphrases that appear \"central\" to the text in the same way that PageRank selects important Web pages.</mark> <mark>Recall this is based on the notion of \"prestige\" or \"recommendation\" from social networks.</mark> In this way, TextRank does not rely on any previous training data at all, but rather can be run on any arbitrary piece of text, and it can produce output simply based on the text's intrinsic properties. Thus the algorithm is easily portable to new domains and languages. TextRank is a general purpose graph-based ranking algorithm for NLP. Essentially, it runs PageRank on a graph specially designed for a particular NLP task. <mark>For keyphrase extraction, it builds a graph using some set of text units as vertices.</mark> Edges are based on some measure of semantic or lexical similarity between the text unit vertices. Unlike PageRank, the edges are typically undirected and can be weighted to reflect a degree of similarity. Once the graph is constructed, it is used to form a stochastic matrix, combined with a damping factor (as in the \"random surfer model\"), and the ranking over vertices is obtained by finding the eigenvector corresponding to eigenvalue 1 (i.e., the stationary distribution of the random walk on the graph). The vertices should correspond to what we want to rank. Potentially, we could do something similar to the supervised methods and create a vertex for each unigram, bigram, trigram, etc. However, to keep the graph small, the authors decide to rank individual unigrams in a first step, and then include a second step that merges highly ranked adjacent unigrams to form multi-word phrases. This has a nice side effect of allowing us to produce keyphrases of arbitrary length. <mark>For example, if we rank unigrams and find that \"advanced\", \"natural\", \"language\", and \"processing\" all get high ranks, then we would look at the original text and see that these words appear consecutively and create a final keyphrase using all four together.</mark> Note that the unigrams placed in the graph can be filtered by part of speech. The authors found that adjectives and nouns were the best to include. Thus, some linguistic knowledge comes into play in this step. Edges are created based on word co-occurrence in this application of TextRank. Two vertices are connected by an edge if the unigrams appear within a window of size N in the original text. N is typically around 2–10. <mark>Thus, \"natural\" and \"language\" might be linked in a text about NLP.</mark> <mark>\"Natural\" and \"processing\" would also be linked because they would both appear in the same string of N words.</mark> <mark>These edges build on the notion of \"text cohesion\" and the idea that words that appear near each other are likely related in a meaningful way and \"recommend\" each other to the reader.</mark> Since this method simply ranks the individual vertices, we need a way to threshold or produce a limited number of keyphrases. The technique chosen is to set a count T to be a user-specified fraction of the total number of vertices in the graph. Then the top T vertices/unigrams are selected based on their stationary probabilities. A post- processing step is then applied to merge adjacent instances of these T unigrams. As a result, potentially more or less than T final keyphrases will be produced, but the number should be roughly proportional to the length of the original text. It is not initially clear why applying PageRank to a co-occurrence graph would produce useful keyphrases. One way to think about it is the following. A word that appears multiple times throughout a text may have many different co-occurring neighbors. <mark>For example, in a text about machine learning, the unigram \"learning\" might co-occur with \"machine\", \"supervised\", \"un-supervised\", and \"semi-supervised\" in four different sentences.</mark> <mark>Thus, the \"learning\" vertex would be a central \"hub\" that connects to these other modifying words.</mark> <mark>Running PageRank/TextRank on the graph is likely to rank \"learning\" highly.</mark> <mark>Similarly, if the text contains the phrase \"supervised classification\", then there would be an edge between \"supervised\" and \"classification\".</mark> <mark>If \"classification\" appears several other places and thus has many neighbors, its importance would contribute to the importance of \"supervised\".</mark> <mark>If it ends up with a high rank, it will be selected as one of the top T unigrams, along with \"learning\" and probably \"classification\".</mark> <mark>In the final post-processing step, we would then end up with keyphrases \"supervised learning\" and \"supervised classification\".</mark> In short, the co-occurrence graph will contain densely connected regions for terms that appear often and in different contexts. A random walk on this graph will have a stationary distribution that assigns large probabilities to the terms in the centers of the clusters. This is similar to densely connected Web pages getting ranked highly by PageRank. <mark>This approach has also been used in document summarization, considered below.</mark> <mark>Like keyphrase extraction, document summarization aims to identify the essence of a text.</mark> The only real difference is that now we are dealing with larger text units—whole sentences instead of words and phrases. <mark>Supervised text summarization is very much like supervised keyphrase extraction.</mark> Basically, if you have a collection of documents and human-generated summaries for them, you can learn features of sentences that make them good candidates for inclusion in the summary. Features might include the position in the document (i.e., the first few sentences are probably important), the number of words in the sentence, etc. <mark>The main difficulty in supervised extractive summarization is that the known summaries must be manually created by extracting sentences so the sentences in an original training document can be labeled as \"in summary\" or \"not in summary\".</mark> This is not typically how people create summaries, so simply using journal abstracts or existing summaries is usually not sufficient. <mark>The sentences in these summaries do not necessarily match up with sentences in the original text, so it would be difficult to assign labels to examples for training.</mark> Note, however, that these natural summaries can still be used for evaluation purposes, since ROUGE-1 evaluation only considers unigrams. <mark>During the DUC 2001 and 2002 evaluation workshops, TNO developed a sentence extraction system for multi-document summarization in the news domain.</mark> The system was based on a hybrid system using a Naive Bayes classifier and statistical language models for modeling salience. Although the system exhibited good results, the researchers wanted to explore the effectiveness of a maximum entropy (ME) classifier for the meeting summarization task, as ME is known to be robust against feature dependencies. Maximum entropy has also been applied successfully for summarization in the broadcast news domain. A promising approach is adaptive document/text summarization. [17] It involves first recognizing the text genre and then applying summarization algorithms optimized for this genre. Such software has been created. [18]\n",
              "\n",
              "The unsupervised approach to summarization is also quite similar in spirit to unsupervised keyphrase extraction and gets around the issue of costly training data. <mark>Some unsupervised summarization approaches are based on finding a \"centroid\" sentence, which is the mean word vector of all the sentences in the document.</mark> Then the sentences can be ranked with regard to their similarity to this centroid sentence. A more principled way to estimate sentence importance is using random walks and eigenvector centrality. <mark>LexRank[19] is an algorithm essentially identical to TextRank, and both use this approach for document summarization.</mark> <mark>The two methods were developed by different groups at the same time, and LexRank simply focused on summarization, but could just as easily be used for keyphrase extraction or any other NLP ranking task.</mark> In both LexRank and TextRank, a graph is constructed by creating a vertex for each sentence in the document. The edges between sentences are based on some form of semantic similarity or content overlap. While LexRank uses cosine similarity of TF-IDF vectors, TextRank uses a very similar measure based on the number of words two sentences have in common (normalized by the sentences' lengths). The LexRank paper explored using unweighted edges after applying a threshold to the cosine values, but also experimented with using edges with weights equal to the similarity score. TextRank uses continuous similarity scores as weights. In both algorithms, the sentences are ranked by applying PageRank to the resulting graph. A summary is formed by combining the top ranking sentences, using a threshold or length cutoff to limit the size of the summary. <mark>It is worth noting that TextRank was applied to summarization exactly as described here, while LexRank was used as part of a larger summarization system (MEAD) that combines the LexRank score (stationary probability) with other features like sentence position and length using a linear combination with either user-specified or automatically tuned weights.</mark> In this case, some training documents might be needed, though the TextRank results show the additional features are not absolutely necessary. <mark>Unlike TextRank, LexRank has been applied to multi-document summarization.</mark> <mark>Multi-document summarization is an automatic procedure aimed at extraction of information from multiple texts written about the same topic.</mark> Resulting summary report allows individual users, such as professional information consumers, to quickly familiarize themselves with information contained in a large cluster of documents. In such a way, multi-document summarization systems are complementing the news aggregators performing the next step down the road of coping with information overload. Multi-document summarization may also be done in response to a question. [20][11]\n",
              "\n",
              "Multi-document summarization creates information reports that are both concise and comprehensive. With different opinions being put together and outlined, every topic is described from multiple perspectives within a single document. While the goal of a brief summary is to simplify information search and cut the time by pointing to the most relevant source documents, comprehensive multi-document summary should itself contain the required information, hence limiting the need for accessing original files to cases when refinement is required. Automatic summaries present information extracted from multiple sources algorithmically, without any editorial touch or subjective human intervention, thus making it completely unbiased. [dubious – discuss]\n",
              "\n",
              "Multi-document extractive summarization faces a problem of redundancy. <mark>Ideally, we want to extract sentences that are both \"central\" (i.e., contain the main ideas) and \"diverse\" (i.e., they differ from one another).</mark> For example, in a set of news articles about some event, each article is likely to have many similar sentences. To address this issue, LexRank applies a heuristic post-processing step that adds sentences in rank order, but discards sentences that are too similar to ones already in the summary. This method is called Cross-Sentence Information Subsumption (CSIS). <mark>These methods work based on the idea that sentences \"recommend\" other similar sentences to the reader.</mark> Thus, if one sentence is very similar to many others, it will likely be a sentence of great importance. <mark>Its importance also stems from the importance of the sentences \"recommending\" it.</mark> Thus, to get ranked highly and placed in a summary, a sentence must be similar to many sentences that are in turn also similar to many other sentences. This makes intuitive sense and allows the algorithms to be applied to an arbitrary new text. The methods are domain-independent and easily portable. One could imagine the features indicating important sentences in the news domain might vary considerably from the biomedical domain. However, the unsupervised \"recommendation\"-based approach applies to any domain. <mark>A related method is Maximal Marginal Relevance (MMR),[21] which uses a general-purpose graph-based ranking algorithm like Page/Lex/TextRank that handles both \"centrality\" and \"diversity\" in a unified mathematical framework based on absorbing Markov chain random walks (a random walk where certain states end the walk).</mark> The algorithm is called GRASSHOPPER. [22] In addition to explicitly promoting diversity during the ranking process, GRASSHOPPER incorporates a prior ranking (based on sentence position in the case of summarization). <mark>The state of the art results for multi-document summarization are obtained using mixtures of submodular functions.</mark> These methods have achieved the state of the art results for Document Summarization Corpora, DUC 04 - 07. [23] Similar results were achieved with the use of determinantal point processes (which are a special case of submodular functions) for DUC-04. [24]\n",
              "\n",
              "A new method for multi-lingual multi-document summarization that avoids redundancy generates ideograms to represent the meaning of each sentence in each document, then evaluates similarity by comparing ideogram shape and position. It does not use word frequency, training or preprocessing. It uses two user-supplied parameters: equivalence (when are two sentences to be considered equivalent?) and relevance (how long is the desired summary?). The idea of a submodular set function has recently emerged as a powerful modeling tool for various summarization problems. Submodular functions naturally model notions of coverage, information, representation and diversity. Moreover, several important combinatorial optimization problems occur as special instances of submodular optimization. For example, the set cover problem is a special case of submodular optimization, since the set cover function is submodular. The set cover function attempts to find a subset of objects which cover a given set of concepts. <mark>For example, in document summarization, one would like the summary to cover all important and relevant concepts in the document.</mark> This is an instance of set cover. Similarly, the facility location problem is a special case of submodular functions. The Facility Location function also naturally models coverage and diversity. Another example of a submodular optimization problem is using a determinantal point process to model diversity. Similarly, the Maximum-Marginal-Relevance procedure can also be seen as an instance of submodular optimization. All these important models encouraging coverage, diversity and information are all submodular. Moreover, submodular functions can be efficiently combined, and the resulting function is still submodular. Hence, one could combine one submodular function which models diversity, another one which models coverage and use human supervision to learn a right model of a submodular function for the problem. <mark>While submodular functions are fitting problems for summarization, they also admit very efficient algorithms for optimization.</mark> For example, a simple greedy algorithm admits a constant factor guarantee. [25] Moreover, the greedy algorithm is extremely simple to implement and can scale to large datasets, which is very important for summarization problems. <mark>Submodular functions have achieved state-of-the-art for almost all summarization problems.</mark> For example, work by Lin and Bilmes, 2012[26] shows that submodular functions achieve the best results to date on DUC-04, DUC-05, DUC-06 and DUC-07 systems for document summarization. <mark>Similarly, work by Lin and Bilmes, 2011,[27] shows that many existing systems for automatic summarization are instances of submodular functions.</mark> <mark>This was a breakthrough result establishing submodular functions as the right models for summarization problems.</mark> <mark>[citation needed]\n",
              "\n",
              "Submodular Functions have also been used for other summarization tasks.</mark> Tschiatschek et al., 2014 show[28] that mixtures of submodular functions achieve state-of-the-art results for image collection summarization. Similarly, Bairi et al., 2015[29] show the utility of submodular functions for summarizing multi-document topic hierarchies. Submodular Functions have also successfully been used for summarizing machine learning datasets. [30]\n",
              "• The Reddit bot \"autotldr\",[31] created in 2011 summarizes news articles in the comment-section of reddit posts. It was found to be very useful by the reddit community which upvoted its summaries hundreds of thousands of times. [32] The name is reference to TL;DR − Internet slang for \"too long; didn't read\". [33][34]\n",
              "• Adversarial stylometry may make use of summaries, if the detail lost is not major and the summary is sufficiently stylistically different to the input. The most common way to evaluate the informativeness of automatic summaries is to compare them with human-made model summaries. Evaluation can be intrinsic or extrinsic,[36] and inter-textual or intra-textual. <mark>[37]\n",
              "\n",
              "Intrinsic evaluation assesses the summaries directly, while extrinsic evaluation evaluates how the summarization system affects the completion of some other task.</mark> Intrinsic evaluations have assessed mainly the coherence and informativeness of summaries. Extrinsic evaluations, on the other hand, have tested the impact of summarization on tasks like relevance assessment, reading comprehension, etc. <mark>Intra-textual evaluation assess the output of a specific summarization system, while inter-textual evaluation focuses on contrastive analysis of outputs of several summarization systems.</mark> <mark>Human judgement often varies greatly in what it considers a \"good\" summary, so creating an automatic evaluation process is particularly difficult.</mark> Manual evaluation can be used, but this is both time and labor-intensive, as it requires humans to read not only the summaries but also the source documents. Other issues are those concerning coherence and coverage. The most common way to evaluate summaries is ROUGE (Recall-Oriented Understudy for Gisting Evaluation). It is very common for summarization and translation systems in NIST's Document Understanding Conferences. [2] ROUGE is a recall-based measure of how well a summary covers the content of human-generated summaries known as references. It calculates n-gram overlaps between automatically generated summaries and previously written human summaries. It is recall-based to encourage inclusion of all important topics in summaries. Recall can be computed with respect to unigram, bigram, trigram, or 4-gram matching. For example, ROUGE-1 is the fraction of unigrams that appear in both the reference summary and the automatic summary out of all unigrams in the reference summary. If there are multiple reference summaries, their scores are averaged. A high level of overlap should indicate a high degree of shared concepts between the two summaries. ROUGE cannot determine if the result is coherent, that is if sentences flow together in a sensibly. High-order n-gram ROUGE measures help to some degree. Another unsolved problem is Anaphor resolution. <mark>Similarly, for image summarization, Tschiatschek et al., developed a Visual-ROUGE score which judges the performance of algorithms for image summarization.</mark> [38]\n",
              "\n",
              "Domain-independent summarization techniques apply sets of general features to identify information-rich text segments. Recent research focuses on domain-specific summarization using knowledge specific to the text's domain, such as medical knowledge and ontologies for summarizing medical texts. [39]\n",
              "\n",
              "The main drawback of the evaluation systems so far is that we need a reference summary (for some methods, more than one), to compare automatic summaries with models. This is a hard and expensive task. Much effort has to be made to create corpora of texts and their corresponding summaries. Furthermore, some methods require manual annotation of the summaries (e.g. SCU in the Pyramid Method). Moreover, they all perform a quantitative evaluation with regard to different similarity metrics. The first publication in the area dates back to 1957 [40] (Hans Peter Luhn), starting with a statistical technique. Research increased significantly in 2015. Term frequency–inverse document frequency had been used by 2016. <mark>Pattern-based summarization was the most powerful option for multi-document summarization found by 2016.</mark> In the following year it was surpassed by latent semantic analysis (LSA) combined with non-negative matrix factorization (NMF). Although they did not replace other approaches and are often combined with them, by 2019 machine learning methods dominated the extractive summarization of single documents, which was considered to be nearing maturity. By 2020, the field was still very active and research is shifting towards abstractive summation and real-time summarization. [41]\n",
              "\n",
              "Recently the rise of transformer models replacing more traditional RNN (LSTM) have provided a flexibility in the mapping of text sequences to text sequences of a different type, which is well suited to automatic summarization. This includes models such as T5[42] and Pegasus. [43]\n",
              "• None Potthast, Martin; Hagen, Matthias; Stein, Benno (2016). Author Obfuscation: Attacking the State of the Art in Authorship Verification . Conference and Labs of the Evaluation Forum. • None Roxana, Angheluta (2002). <mark>The Use of Topic Segmentation for Automatic Summarization.</mark> • None Elena, Lloret and Manuel, Palomar (2009). Challenging Issues of Automatic Summarization: Relevance Detection and Quality-based Evaluation. • None Alrehamy, Hassan (2017). <mark>\"SemCluster: Unsupervised Automatic Keyphrase Extraction Using Affinity Propagation\".</mark> Automatic Keyphrases Extraction. Advances in Intelligent Systems and Computing. Vol. 650. pp. 222–235. doi:10.1007/978-3-319-66939-7_19. ISBN . • None Marcu, Daniel (2000). The Theory and Practice of Discourse Parsing and Summarization. ISBN . • , Published in Proceeding RIAO'10 Adaptivity, Personalization and Fusion of Heterogeneous Information, CID Paris, France\n",
              "• None Xiaojin, Zhu, Andrew Goldberg, Jurgen Van Gael, and David Andrzejewski (2007). Improving diversity in ranking using absorbing random walks . , The GRASSHOPPER algorithm\n",
              "• None Miranda-Jiménez, Sabino, Gelbukh, Alexander, and Sidorov, Grigori (2013). <mark>\"Summarizing Conceptual Graphs for Automatic Summarization Task\".</mark> Conceptual Structures for STEM Research and Education. Lecture Notes in Computer Science. Vol. 7735. pp. 245–253. doi:10.1007/978-3-642-35786-2_18. ISBN . , Conceptual Structures for STEM Research and Education. "
            ],
            "text/plain": [
              "<IPython.core.display.HTML object>"
            ]
          },
          "metadata": {},
          "output_type": "display_data"
        }
      ],
      "source": [
        "visualize(article.title, original_sentences, best_sentences)"
      ]
    }
  ],
  "metadata": {
    "colab": {
      "provenance": []
    },
    "kernelspec": {
      "display_name": "NLP",
      "language": "python",
      "name": "python3"
    },
    "language_info": {
      "codemirror_mode": {
        "name": "ipython",
        "version": 3
      },
      "file_extension": ".py",
      "mimetype": "text/x-python",
      "name": "python",
      "nbconvert_exporter": "python",
      "pygments_lexer": "ipython3",
      "version": "3.7.10"
    },
    "vscode": {
      "interpreter": {
        "hash": "24513103fde56bb2b83e620cc549278f11e79fde4f670db3dc95f99c43b58a75"
      }
    }
  },
  "nbformat": 4,
  "nbformat_minor": 0
}
