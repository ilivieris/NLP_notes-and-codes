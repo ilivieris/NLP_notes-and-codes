{
 "cells": [
  {
   "attachments": {},
   "cell_type": "markdown",
   "metadata": {},
   "source": [
    "# Libraries"
   ]
  },
  {
   "cell_type": "code",
   "execution_count": 1,
   "metadata": {},
   "outputs": [],
   "source": [
    "import warnings\n",
    "warnings.filterwarnings(\"ignore\")\n",
    "\n",
    "import os\n",
    "os.environ['TF_CPP_MIN_LOG_LEVEL'] = '3' \n",
    "\n",
    "import random\n",
    "import numpy                         as np\n",
    "import pandas                        as pd\n",
    "\n",
    "import tensorflow as tf\n",
    "from   tensorflow.keras.models       import Sequential\n",
    "from   tensorflow.keras.layers       import *\n",
    "from   tensorflow.keras.optimizers   import SGD \n",
    "from   tensorflow.keras.preprocessing.text import Tokenizer\n",
    "from   tensorflow.keras.preprocessing.sequence import pad_sequences\n",
    "\n",
    "from sklearn.model_selection         import train_test_split\n",
    "from sklearn.feature_extraction.text import CountVectorizer\n",
    "\n",
    "from utils.load_dataset import *\n",
    "from utils.utils import *\n",
    "from utils.text_preprocessing import *"
   ]
  },
  {
   "cell_type": "code",
   "execution_count": 2,
   "metadata": {},
   "outputs": [],
   "source": [
    "random_state = 42\n",
    "\n",
    "random.seed(random_state)\n",
    "os.environ[\"PYTHONHASHSEED\"] = str(random_state)\n",
    "np.random.seed(random_state)\n",
    "tf.random.set_seed(random_state)"
   ]
  },
  {
   "attachments": {},
   "cell_type": "markdown",
   "metadata": {},
   "source": [
    "# Dataset"
   ]
  },
  {
   "cell_type": "code",
   "execution_count": 3,
   "metadata": {},
   "outputs": [
    {
     "data": {
      "text/html": [
       "<div>\n",
       "<style scoped>\n",
       "    .dataframe tbody tr th:only-of-type {\n",
       "        vertical-align: middle;\n",
       "    }\n",
       "\n",
       "    .dataframe tbody tr th {\n",
       "        vertical-align: top;\n",
       "    }\n",
       "\n",
       "    .dataframe thead th {\n",
       "        text-align: right;\n",
       "    }\n",
       "</style>\n",
       "<table border=\"1\" class=\"dataframe\">\n",
       "  <thead>\n",
       "    <tr style=\"text-align: right;\">\n",
       "      <th></th>\n",
       "      <th>sentence</th>\n",
       "      <th>label</th>\n",
       "      <th>source</th>\n",
       "    </tr>\n",
       "  </thead>\n",
       "  <tbody>\n",
       "    <tr>\n",
       "      <th>0</th>\n",
       "      <td>Wow... Loved this place.</td>\n",
       "      <td>1</td>\n",
       "      <td>yelp</td>\n",
       "    </tr>\n",
       "    <tr>\n",
       "      <th>1</th>\n",
       "      <td>Crust is not good.</td>\n",
       "      <td>0</td>\n",
       "      <td>yelp</td>\n",
       "    </tr>\n",
       "    <tr>\n",
       "      <th>2</th>\n",
       "      <td>Not tasty and the texture was just nasty.</td>\n",
       "      <td>0</td>\n",
       "      <td>yelp</td>\n",
       "    </tr>\n",
       "  </tbody>\n",
       "</table>\n",
       "</div>"
      ],
      "text/plain": [
       "                                    sentence  label source\n",
       "0                   Wow... Loved this place.      1   yelp\n",
       "1                         Crust is not good.      0   yelp\n",
       "2  Not tasty and the texture was just nasty.      0   yelp"
      ]
     },
     "execution_count": 3,
     "metadata": {},
     "output_type": "execute_result"
    }
   ],
   "source": [
    "# Sentiment Labelled Sentences Data Set (UCI)\n",
    "# This data set includes labeled reviews from \n",
    "# 1. IMDb, \n",
    "# 2. Amazon\n",
    "# 3. Yelp. \n",
    "# Each review is marked with a score of 0 for a negative sentiment \n",
    "# or 1 for a positive sentiment.\n",
    "df = load_dataset()\n",
    "\n",
    "df.head(3)"
   ]
  },
  {
   "attachments": {},
   "cell_type": "markdown",
   "metadata": {},
   "source": [
    "## Create train/test datasets"
   ]
  },
  {
   "cell_type": "code",
   "execution_count": 4,
   "metadata": {},
   "outputs": [],
   "source": [
    "# Get Sentences and Ratings\n",
    "Sentences = df['sentence']\n",
    "Ratings   = df['label']\n",
    "\n",
    "\n",
    "Sentences_train, Sentences_test, trainY, testY = train_test_split(Sentences, Ratings, test_size=0.1, random_state=random_state)"
   ]
  },
  {
   "attachments": {},
   "cell_type": "markdown",
   "metadata": {},
   "source": [
    "# Case study I: Sentinel model (without data preprocessing)"
   ]
  },
  {
   "cell_type": "code",
   "execution_count": 5,
   "metadata": {},
   "outputs": [
    {
     "name": "stdout",
     "output_type": "stream",
     "text": [
      "Vocabulary size:  5036\n"
     ]
    }
   ],
   "source": [
    "# Use keras Tokenizer\n",
    "tokenizer = Tokenizer(num_words=5000)\n",
    "tokenizer.fit_on_texts(Sentences_train)\n",
    "\n",
    "trainX = tokenizer.texts_to_sequences(Sentences_train)\n",
    "testX  = tokenizer.texts_to_sequences(Sentences_test)\n",
    "\n",
    "# Vocabulary size\n",
    "vocab_size = len(tokenizer.word_index) + 1  # Adding 1 because of reserved 0 index\n",
    "print('Vocabulary size: ', vocab_size)\n",
    "\n",
    "# Pad sequence\n",
    "maxlen = 100\n",
    "trainX = pad_sequences(trainX, padding='post', maxlen=maxlen)\n",
    "testX = pad_sequences(testX, padding='post', maxlen=maxlen)"
   ]
  },
  {
   "cell_type": "markdown",
   "metadata": {},
   "source": [
    "## Setup model & train"
   ]
  },
  {
   "cell_type": "code",
   "execution_count": 6,
   "metadata": {},
   "outputs": [
    {
     "name": "stdout",
     "output_type": "stream",
     "text": [
      "Model: \"sequential\"\n",
      "_________________________________________________________________\n",
      "Layer (type)                 Output Shape              Param #   \n",
      "=================================================================\n",
      "embedding (Embedding)        (None, 100, 50)           251800    \n",
      "_________________________________________________________________\n",
      "global_max_pooling1d (Global (None, 50)                0         \n",
      "_________________________________________________________________\n",
      "dense (Dense)                (None, 10)                510       \n",
      "_________________________________________________________________\n",
      "dense_1 (Dense)              (None, 1)                 11        \n",
      "=================================================================\n",
      "Total params: 252,321\n",
      "Trainable params: 252,321\n",
      "Non-trainable params: 0\n",
      "_________________________________________________________________\n",
      "Epoch 1/30\n",
      "39/39 [==============================] - 0s 11ms/step - loss: 0.6895 - accuracy: 0.5750 - val_loss: 0.6795 - val_accuracy: 0.6182\n",
      "Epoch 2/30\n",
      "39/39 [==============================] - 0s 5ms/step - loss: 0.6662 - accuracy: 0.6490 - val_loss: 0.6538 - val_accuracy: 0.7455\n",
      "Epoch 3/30\n",
      "39/39 [==============================] - 0s 5ms/step - loss: 0.6188 - accuracy: 0.7521 - val_loss: 0.6034 - val_accuracy: 0.7745\n",
      "Epoch 4/30\n",
      "39/39 [==============================] - 0s 5ms/step - loss: 0.5406 - accuracy: 0.8666 - val_loss: 0.5370 - val_accuracy: 0.8291\n",
      "Epoch 5/30\n",
      "39/39 [==============================] - 0s 5ms/step - loss: 0.4345 - accuracy: 0.9317 - val_loss: 0.4647 - val_accuracy: 0.8364\n",
      "Epoch 6/30\n",
      "39/39 [==============================] - 0s 5ms/step - loss: 0.3226 - accuracy: 0.9490 - val_loss: 0.4012 - val_accuracy: 0.8327\n",
      "Epoch 7/30\n",
      "39/39 [==============================] - 0s 5ms/step - loss: 0.2271 - accuracy: 0.9628 - val_loss: 0.3598 - val_accuracy: 0.8509\n",
      "Epoch 8/30\n",
      "39/39 [==============================] - 0s 5ms/step - loss: 0.1592 - accuracy: 0.9749 - val_loss: 0.3384 - val_accuracy: 0.8618\n",
      "Epoch 9/30\n",
      "39/39 [==============================] - 0s 5ms/step - loss: 0.1134 - accuracy: 0.9830 - val_loss: 0.3233 - val_accuracy: 0.8691\n",
      "Epoch 10/30\n",
      "39/39 [==============================] - 0s 7ms/step - loss: 0.0827 - accuracy: 0.9899 - val_loss: 0.3166 - val_accuracy: 0.8655\n",
      "Epoch 11/30\n",
      "39/39 [==============================] - 0s 5ms/step - loss: 0.0620 - accuracy: 0.9927 - val_loss: 0.3162 - val_accuracy: 0.8618\n",
      "Epoch 12/30\n",
      "39/39 [==============================] - 0s 5ms/step - loss: 0.0472 - accuracy: 0.9951 - val_loss: 0.3166 - val_accuracy: 0.8655\n",
      "Epoch 13/30\n",
      "39/39 [==============================] - 0s 5ms/step - loss: 0.0368 - accuracy: 0.9972 - val_loss: 0.3187 - val_accuracy: 0.8618\n",
      "Epoch 14/30\n",
      "39/39 [==============================] - 0s 5ms/step - loss: 0.0286 - accuracy: 0.9976 - val_loss: 0.3192 - val_accuracy: 0.8655\n",
      "Epoch 15/30\n",
      "39/39 [==============================] - 0s 5ms/step - loss: 0.0224 - accuracy: 0.9980 - val_loss: 0.3219 - val_accuracy: 0.8655\n",
      "Epoch 16/30\n",
      "39/39 [==============================] - 0s 5ms/step - loss: 0.0177 - accuracy: 0.9988 - val_loss: 0.3237 - val_accuracy: 0.8691\n",
      "Epoch 17/30\n",
      "39/39 [==============================] - 0s 8ms/step - loss: 0.0144 - accuracy: 0.9988 - val_loss: 0.3266 - val_accuracy: 0.8691\n",
      "Epoch 18/30\n",
      "39/39 [==============================] - 0s 5ms/step - loss: 0.0120 - accuracy: 0.9992 - val_loss: 0.3328 - val_accuracy: 0.8655\n",
      "Epoch 19/30\n",
      "39/39 [==============================] - 0s 5ms/step - loss: 0.0099 - accuracy: 0.9996 - val_loss: 0.3362 - val_accuracy: 0.8618\n",
      "Epoch 20/30\n",
      "39/39 [==============================] - 0s 7ms/step - loss: 0.0084 - accuracy: 1.0000 - val_loss: 0.3396 - val_accuracy: 0.8618\n",
      "Epoch 21/30\n",
      "39/39 [==============================] - 0s 5ms/step - loss: 0.0072 - accuracy: 1.0000 - val_loss: 0.3423 - val_accuracy: 0.8582\n",
      "Epoch 22/30\n",
      "39/39 [==============================] - 0s 5ms/step - loss: 0.0062 - accuracy: 1.0000 - val_loss: 0.3472 - val_accuracy: 0.8618\n",
      "Epoch 23/30\n",
      "39/39 [==============================] - 0s 6ms/step - loss: 0.0054 - accuracy: 1.0000 - val_loss: 0.3492 - val_accuracy: 0.8618\n",
      "Epoch 24/30\n",
      "39/39 [==============================] - 0s 7ms/step - loss: 0.0047 - accuracy: 1.0000 - val_loss: 0.3525 - val_accuracy: 0.8582\n",
      "Epoch 25/30\n",
      "39/39 [==============================] - 0s 6ms/step - loss: 0.0042 - accuracy: 1.0000 - val_loss: 0.3557 - val_accuracy: 0.8582\n",
      "Epoch 26/30\n",
      "39/39 [==============================] - 0s 5ms/step - loss: 0.0037 - accuracy: 1.0000 - val_loss: 0.3591 - val_accuracy: 0.8582\n",
      "Epoch 27/30\n",
      "39/39 [==============================] - 0s 5ms/step - loss: 0.0033 - accuracy: 1.0000 - val_loss: 0.3625 - val_accuracy: 0.8582\n",
      "Epoch 28/30\n",
      "39/39 [==============================] - 0s 7ms/step - loss: 0.0030 - accuracy: 1.0000 - val_loss: 0.3657 - val_accuracy: 0.8582\n",
      "Epoch 29/30\n",
      "39/39 [==============================] - 0s 7ms/step - loss: 0.0027 - accuracy: 1.0000 - val_loss: 0.3692 - val_accuracy: 0.8582\n",
      "Epoch 30/30\n",
      "39/39 [==============================] - 0s 6ms/step - loss: 0.0025 - accuracy: 1.0000 - val_loss: 0.3733 - val_accuracy: 0.8545\n"
     ]
    }
   ],
   "source": [
    "# Setup model\n",
    "embedding_dim = 50\n",
    "\n",
    "model = Sequential()\n",
    "model.add(Embedding(input_dim    = vocab_size, \n",
    "                    output_dim   = embedding_dim, \n",
    "                    input_length = maxlen))\n",
    "#model.add(Flatten())\n",
    "model.add(GlobalMaxPool1D())\n",
    "model.add(Dense(10, activation='relu'))\n",
    "model.add(Dense(1, activation='sigmoid'))\n",
    "\n",
    "model.compile(loss='binary_crossentropy', optimizer='adam', metrics = ['accuracy'])\n",
    "model.summary()\n",
    "\n",
    "\n",
    "# Train model\n",
    "score = model.fit(trainX, trainY,\n",
    "                  epochs          = 30, \n",
    "                  batch_size      = 64, \n",
    "                  verbose         = 1, \n",
    "                  validation_data = (testX, testY))"
   ]
  },
  {
   "cell_type": "markdown",
   "metadata": {},
   "source": [
    "## Model evaluation"
   ]
  },
  {
   "cell_type": "code",
   "execution_count": 7,
   "metadata": {},
   "outputs": [
    {
     "data": {
      "image/png": "[encoded data removed]",
      "text/plain": [
       "<Figure size 864x360 with 2 Axes>"
      ]
     },
     "metadata": {
      "needs_background": "light"
     },
     "output_type": "display_data"
    },
    {
     "name": "stdout",
     "output_type": "stream",
     "text": [
      "Training Accuracy: 1.0000\n",
      "Testing Accuracy:  0.8545\n",
      "Accuracy = 85.45%\n",
      "AUC      = 0.85516\n",
      "F1       = 0.84000\n",
      "[[130  23]\n",
      " [ 17 105]]\n",
      "\n",
      "\n"
     ]
    }
   ],
   "source": [
    "# Print statistics\n",
    "plot_history(score)\n",
    "\n",
    "\n",
    "loss, accuracy = model.evaluate(trainX, trainY, verbose=False)\n",
    "print(\"Training Accuracy: {:.4f}\".format(accuracy))\n",
    "loss, accuracy = model.evaluate(testX, testY, verbose=False)\n",
    "print(\"Testing Accuracy:  {:.4f}\".format(accuracy))\n",
    "\n",
    "\n",
    "# Predictions of the classification model\n",
    "pred = model.predict(testX)\n",
    "\n",
    "# Evaluation of the classification model\n",
    "evaluate_model(testY, pred)"
   ]
  },
  {
   "attachments": {},
   "cell_type": "markdown",
   "metadata": {},
   "source": [
    "# Case study II: Sentinel model (**with** data preprocessing)"
   ]
  },
  {
   "attachments": {},
   "cell_type": "markdown",
   "metadata": {},
   "source": [
    "## Preprocess data\n",
    "1. Lower case\n",
    "2. Remove punctuation\n",
    "2. Remove stopping words\n",
    "3. Lemmatization (or Stemming)"
   ]
  },
  {
   "cell_type": "code",
   "execution_count": 8,
   "metadata": {},
   "outputs": [],
   "source": [
    "Sentences_train = preprocess(Series=Sentences_train, verbose=False)\n",
    "Sentences_test = preprocess(Series=Sentences_test, verbose=False)"
   ]
  },
  {
   "cell_type": "code",
   "execution_count": 9,
   "metadata": {},
   "outputs": [
    {
     "name": "stdout",
     "output_type": "stream",
     "text": [
      "Vocabulary size:  4636\n"
     ]
    }
   ],
   "source": [
    "# Use keras Tokenizer\n",
    "tokenizer = Tokenizer(num_words=5000)\n",
    "tokenizer.fit_on_texts(Sentences_train)\n",
    "\n",
    "trainX = tokenizer.texts_to_sequences(Sentences_train)\n",
    "testX  = tokenizer.texts_to_sequences(Sentences_test)\n",
    "\n",
    "# Vocabulary size\n",
    "vocab_size = len(tokenizer.word_index) + 1  # Adding 1 because of reserved 0 index\n",
    "print('Vocabulary size: ', vocab_size)\n",
    "\n",
    "# Pad sequence\n",
    "maxlen = 100\n",
    "trainX = pad_sequences(trainX, padding='post', maxlen=maxlen)\n",
    "testX = pad_sequences(testX, padding='post', maxlen=maxlen)"
   ]
  },
  {
   "cell_type": "markdown",
   "metadata": {},
   "source": [
    "## Setup model & train"
   ]
  },
  {
   "cell_type": "code",
   "execution_count": 17,
   "metadata": {},
   "outputs": [
    {
     "name": "stdout",
     "output_type": "stream",
     "text": [
      "Model: \"sequential_3\"\n",
      "_________________________________________________________________\n",
      "Layer (type)                 Output Shape              Param #   \n",
      "=================================================================\n",
      "embedding_3 (Embedding)      (None, 100, 50)           231800    \n",
      "_________________________________________________________________\n",
      "global_max_pooling1d_3 (Glob (None, 50)                0         \n",
      "_________________________________________________________________\n",
      "dense_4 (Dense)              (None, 10)                510       \n",
      "_________________________________________________________________\n",
      "dense_5 (Dense)              (None, 1)                 11        \n",
      "=================================================================\n",
      "Total params: 232,321\n",
      "Trainable params: 232,321\n",
      "Non-trainable params: 0\n",
      "_________________________________________________________________\n",
      "Epoch 1/30\n",
      "78/78 [==============================] - 0s 6ms/step - loss: 0.6851 - accuracy: 0.5398 - val_loss: 0.6737 - val_accuracy: 0.6764\n",
      "Epoch 2/30\n",
      "78/78 [==============================] - 0s 4ms/step - loss: 0.6195 - accuracy: 0.8269 - val_loss: 0.5963 - val_accuracy: 0.7382\n",
      "Epoch 3/30\n",
      "78/78 [==============================] - 0s 4ms/step - loss: 0.4581 - accuracy: 0.9106 - val_loss: 0.4762 - val_accuracy: 0.8036\n",
      "Epoch 4/30\n",
      "78/78 [==============================] - 0s 4ms/step - loss: 0.2919 - accuracy: 0.9381 - val_loss: 0.3990 - val_accuracy: 0.8291\n",
      "Epoch 5/30\n",
      "78/78 [==============================] - 0s 4ms/step - loss: 0.1804 - accuracy: 0.9624 - val_loss: 0.3561 - val_accuracy: 0.8473\n",
      "Epoch 6/30\n",
      "78/78 [==============================] - 0s 4ms/step - loss: 0.1171 - accuracy: 0.9745 - val_loss: 0.3422 - val_accuracy: 0.8655\n",
      "Epoch 7/30\n",
      "78/78 [==============================] - 0s 4ms/step - loss: 0.0800 - accuracy: 0.9867 - val_loss: 0.3310 - val_accuracy: 0.8727\n",
      "Epoch 8/30\n",
      "78/78 [==============================] - 0s 4ms/step - loss: 0.0564 - accuracy: 0.9899 - val_loss: 0.3365 - val_accuracy: 0.8618\n",
      "Epoch 9/30\n",
      "78/78 [==============================] - 0s 4ms/step - loss: 0.0420 - accuracy: 0.9911 - val_loss: 0.3391 - val_accuracy: 0.8582\n",
      "Epoch 10/30\n",
      "78/78 [==============================] - 0s 4ms/step - loss: 0.0322 - accuracy: 0.9931 - val_loss: 0.3413 - val_accuracy: 0.8618\n",
      "Epoch 11/30\n",
      "78/78 [==============================] - 0s 4ms/step - loss: 0.0243 - accuracy: 0.9935 - val_loss: 0.3460 - val_accuracy: 0.8764\n",
      "Epoch 12/30\n",
      "78/78 [==============================] - 0s 4ms/step - loss: 0.0187 - accuracy: 0.9951 - val_loss: 0.3547 - val_accuracy: 0.8582\n",
      "Epoch 13/30\n",
      "78/78 [==============================] - 0s 4ms/step - loss: 0.0152 - accuracy: 0.9964 - val_loss: 0.3597 - val_accuracy: 0.8655\n",
      "Epoch 14/30\n",
      "78/78 [==============================] - 0s 4ms/step - loss: 0.0129 - accuracy: 0.9956 - val_loss: 0.3652 - val_accuracy: 0.8764\n",
      "Epoch 15/30\n",
      "78/78 [==============================] - 0s 4ms/step - loss: 0.0118 - accuracy: 0.9960 - val_loss: 0.3738 - val_accuracy: 0.8727\n",
      "Epoch 16/30\n",
      "78/78 [==============================] - 0s 4ms/step - loss: 0.0103 - accuracy: 0.9968 - val_loss: 0.3788 - val_accuracy: 0.8764\n",
      "Epoch 17/30\n",
      "78/78 [==============================] - 0s 4ms/step - loss: 0.0092 - accuracy: 0.9968 - val_loss: 0.3851 - val_accuracy: 0.8764\n",
      "Epoch 18/30\n",
      "78/78 [==============================] - 0s 4ms/step - loss: 0.0088 - accuracy: 0.9968 - val_loss: 0.3915 - val_accuracy: 0.8727\n",
      "Epoch 19/30\n",
      "78/78 [==============================] - 0s 5ms/step - loss: 0.0079 - accuracy: 0.9960 - val_loss: 0.3949 - val_accuracy: 0.8764\n",
      "Epoch 20/30\n",
      "78/78 [==============================] - 0s 4ms/step - loss: 0.0080 - accuracy: 0.9960 - val_loss: 0.4030 - val_accuracy: 0.8727\n",
      "Epoch 21/30\n",
      "78/78 [==============================] - 0s 4ms/step - loss: 0.0094 - accuracy: 0.9968 - val_loss: 0.4034 - val_accuracy: 0.8764\n",
      "Epoch 22/30\n",
      "78/78 [==============================] - 0s 4ms/step - loss: 0.0068 - accuracy: 0.9976 - val_loss: 0.4099 - val_accuracy: 0.8764\n",
      "Epoch 23/30\n",
      "78/78 [==============================] - 0s 4ms/step - loss: 0.0072 - accuracy: 0.9968 - val_loss: 0.4128 - val_accuracy: 0.8691\n",
      "Epoch 24/30\n",
      "78/78 [==============================] - 0s 4ms/step - loss: 0.0065 - accuracy: 0.9964 - val_loss: 0.4191 - val_accuracy: 0.8727\n",
      "Epoch 25/30\n",
      "78/78 [==============================] - 0s 4ms/step - loss: 0.0067 - accuracy: 0.9964 - val_loss: 0.4249 - val_accuracy: 0.8691\n",
      "Epoch 26/30\n",
      "78/78 [==============================] - 0s 4ms/step - loss: 0.0066 - accuracy: 0.9964 - val_loss: 0.4271 - val_accuracy: 0.8691\n",
      "Epoch 27/30\n",
      "78/78 [==============================] - 0s 4ms/step - loss: 0.0066 - accuracy: 0.9972 - val_loss: 0.4306 - val_accuracy: 0.8727\n",
      "Epoch 28/30\n",
      "78/78 [==============================] - 0s 4ms/step - loss: 0.0063 - accuracy: 0.9951 - val_loss: 0.4341 - val_accuracy: 0.8655\n",
      "Epoch 29/30\n",
      "78/78 [==============================] - 0s 6ms/step - loss: 0.0065 - accuracy: 0.9968 - val_loss: 0.4378 - val_accuracy: 0.8618\n",
      "Epoch 30/30\n",
      "78/78 [==============================] - 0s 5ms/step - loss: 0.0062 - accuracy: 0.9972 - val_loss: 0.4415 - val_accuracy: 0.8655\n"
     ]
    }
   ],
   "source": [
    "# Setup model\n",
    "embedding_dim = 50\n",
    "\n",
    "model = Sequential()\n",
    "model.add(Embedding(input_dim    = vocab_size, \n",
    "                    output_dim   = embedding_dim, \n",
    "                    input_length = maxlen))\n",
    "#model.add(Flatten())\n",
    "model.add(GlobalMaxPool1D())\n",
    "model.add(Dense(10, activation='relu'))\n",
    "model.add(Dense(1, activation='sigmoid'))\n",
    "\n",
    "model.compile(loss='binary_crossentropy', optimizer='adam', metrics = ['accuracy'])\n",
    "model.summary()\n",
    "\n",
    "\n",
    "# Train model\n",
    "score = model.fit(trainX, trainY,\n",
    "                  epochs          = 30, \n",
    "                  batch_size      = 64, \n",
    "                  verbose         = 1, \n",
    "                  validation_data = (testX, testY))"
   ]
  },
  {
   "cell_type": "markdown",
   "metadata": {},
   "source": [
    "## Model evaluation"
   ]
  },
  {
   "cell_type": "code",
   "execution_count": 11,
   "metadata": {},
   "outputs": [
    {
     "data": {
      "image/png": "[encoded data removed]",
      "text/plain": [
       "<Figure size 864x360 with 2 Axes>"
      ]
     },
     "metadata": {
      "needs_background": "light"
     },
     "output_type": "display_data"
    },
    {
     "name": "stdout",
     "output_type": "stream",
     "text": [
      "Training Accuracy: 0.9976\n",
      "Testing Accuracy:  0.8436\n",
      "Accuracy = 84.36%\n",
      "AUC      = 0.84453\n",
      "F1       = 0.82869\n",
      "[[128  25]\n",
      " [ 18 104]]\n",
      "\n",
      "\n"
     ]
    }
   ],
   "source": [
    "# Print statistics\n",
    "plot_history(score)\n",
    "\n",
    "\n",
    "loss, accuracy = model.evaluate(trainX, trainY, verbose=False)\n",
    "print(\"Training Accuracy: {:.4f}\".format(accuracy))\n",
    "loss, accuracy = model.evaluate(testX, testY, verbose=False)\n",
    "print(\"Testing Accuracy:  {:.4f}\".format(accuracy))\n",
    "\n",
    "\n",
    "# Predictions of the classification model\n",
    "pred = model.predict(testX)\n",
    "\n",
    "# Evaluation of the classification model\n",
    "evaluate_model(testY, pred)"
   ]
  }
 ],
 "metadata": {
  "kernelspec": {
   "display_name": "NLP",
   "language": "python",
   "name": "python3"
  },
  "language_info": {
   "codemirror_mode": {
    "name": "ipython",
    "version": 3
   },
   "file_extension": ".py",
   "mimetype": "text/x-python",
   "name": "python",
   "nbconvert_exporter": "python",
   "pygments_lexer": "ipython3",
   "version": "3.7.10"
  },
  "orig_nbformat": 4,
  "vscode": {
   "interpreter": {
    "hash": "24513103fde56bb2b83e620cc549278f11e79fde4f670db3dc95f99c43b58a75"
   }
  }
 },
 "nbformat": 4,
 "nbformat_minor": 2
}
